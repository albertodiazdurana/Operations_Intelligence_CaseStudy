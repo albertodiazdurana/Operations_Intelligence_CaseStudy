{
 "cells": [
  {
   "cell_type": "code",
   "execution_count": 63,
   "id": "saving-proxy",
   "metadata": {
    "ExecuteTime": {
     "end_time": "2021-02-14T22:40:26.801018Z",
     "start_time": "2021-02-14T22:40:26.522213Z"
    }
   },
   "outputs": [],
   "source": [
    "import pandas as pd\n",
    "import seaborn as sns\n",
    "import matplotlib.pyplot as plt\n",
    "import plotly.express as px"
   ]
  },
  {
   "cell_type": "code",
   "execution_count": 8,
   "id": "employed-penalty",
   "metadata": {
    "ExecuteTime": {
     "end_time": "2021-02-14T21:47:39.366663Z",
     "start_time": "2021-02-14T21:47:38.623481Z"
    }
   },
   "outputs": [],
   "source": [
    "xl = pd.ExcelFile(\"OI Case study - data.xlsx\")"
   ]
  },
  {
   "cell_type": "code",
   "execution_count": 9,
   "id": "unusual-western",
   "metadata": {
    "ExecuteTime": {
     "end_time": "2021-02-14T21:47:40.483598Z",
     "start_time": "2021-02-14T21:47:40.467957Z"
    }
   },
   "outputs": [
    {
     "data": {
      "text/plain": [
       "['Notes', 'Dataset A', 'Dataset B']"
      ]
     },
     "execution_count": 9,
     "metadata": {},
     "output_type": "execute_result"
    }
   ],
   "source": [
    "xl.sheet_names"
   ]
  },
  {
   "cell_type": "code",
   "execution_count": 13,
   "id": "mediterranean-radical",
   "metadata": {
    "ExecuteTime": {
     "end_time": "2021-02-14T21:56:00.583556Z",
     "start_time": "2021-02-14T21:55:58.461717Z"
    }
   },
   "outputs": [],
   "source": [
    "dataA = xl.parse(\"Dataset A\")"
   ]
  },
  {
   "cell_type": "code",
   "execution_count": 18,
   "id": "unique-consortium",
   "metadata": {
    "ExecuteTime": {
     "end_time": "2021-02-14T22:03:23.921657Z",
     "start_time": "2021-02-14T22:03:23.890386Z"
    }
   },
   "outputs": [
    {
     "name": "stdout",
     "output_type": "stream",
     "text": [
      "<class 'pandas.core.frame.DataFrame'>\n",
      "RangeIndex: 6197 entries, 0 to 6196\n",
      "Data columns (total 9 columns):\n",
      " #   Column               Non-Null Count  Dtype         \n",
      "---  ------               --------------  -----         \n",
      " 0   Session ID           6190 non-null   float64       \n",
      " 1   Date                 6188 non-null   datetime64[ns]\n",
      " 2   Hour of day          6188 non-null   float64       \n",
      " 3   Distance to vehicle  6188 non-null   float64       \n",
      " 4   Converted to Trip    6188 non-null   float64       \n",
      " 5   Start zone           6188 non-null   object        \n",
      " 6   End zone             3453 non-null   object        \n",
      " 7   Battery starting %   3453 non-null   float64       \n",
      " 8   Battery ending %     3453 non-null   float64       \n",
      "dtypes: datetime64[ns](1), float64(6), object(2)\n",
      "memory usage: 435.9+ KB\n"
     ]
    }
   ],
   "source": [
    "dataA.info()"
   ]
  },
  {
   "cell_type": "code",
   "execution_count": 14,
   "id": "grave-yesterday",
   "metadata": {
    "ExecuteTime": {
     "end_time": "2021-02-14T21:56:02.485559Z",
     "start_time": "2021-02-14T21:56:02.423062Z"
    },
    "scrolled": true
   },
   "outputs": [
    {
     "data": {
      "text/html": [
       "<div>\n",
       "<style scoped>\n",
       "    .dataframe tbody tr th:only-of-type {\n",
       "        vertical-align: middle;\n",
       "    }\n",
       "\n",
       "    .dataframe tbody tr th {\n",
       "        vertical-align: top;\n",
       "    }\n",
       "\n",
       "    .dataframe thead th {\n",
       "        text-align: right;\n",
       "    }\n",
       "</style>\n",
       "<table border=\"1\" class=\"dataframe\">\n",
       "  <thead>\n",
       "    <tr style=\"text-align: right;\">\n",
       "      <th></th>\n",
       "      <th>Session ID</th>\n",
       "      <th>Date</th>\n",
       "      <th>Hour of day</th>\n",
       "      <th>Distance to vehicle</th>\n",
       "      <th>Converted to Trip</th>\n",
       "      <th>Start zone</th>\n",
       "      <th>End zone</th>\n",
       "      <th>Battery starting %</th>\n",
       "      <th>Battery ending %</th>\n",
       "    </tr>\n",
       "  </thead>\n",
       "  <tbody>\n",
       "    <tr>\n",
       "      <th>0</th>\n",
       "      <td>335401.0</td>\n",
       "      <td>2020-07-25</td>\n",
       "      <td>17.0</td>\n",
       "      <td>356.0</td>\n",
       "      <td>0.0</td>\n",
       "      <td>Zone Z</td>\n",
       "      <td>NaN</td>\n",
       "      <td>NaN</td>\n",
       "      <td>NaN</td>\n",
       "    </tr>\n",
       "    <tr>\n",
       "      <th>1</th>\n",
       "      <td>540099.0</td>\n",
       "      <td>2020-07-24</td>\n",
       "      <td>13.0</td>\n",
       "      <td>334.0</td>\n",
       "      <td>0.0</td>\n",
       "      <td>Zone W</td>\n",
       "      <td>NaN</td>\n",
       "      <td>NaN</td>\n",
       "      <td>NaN</td>\n",
       "    </tr>\n",
       "    <tr>\n",
       "      <th>2</th>\n",
       "      <td>555303.0</td>\n",
       "      <td>2020-07-26</td>\n",
       "      <td>23.0</td>\n",
       "      <td>225.0</td>\n",
       "      <td>0.0</td>\n",
       "      <td>Zone H</td>\n",
       "      <td>NaN</td>\n",
       "      <td>NaN</td>\n",
       "      <td>NaN</td>\n",
       "    </tr>\n",
       "    <tr>\n",
       "      <th>3</th>\n",
       "      <td>685698.0</td>\n",
       "      <td>2020-07-22</td>\n",
       "      <td>11.0</td>\n",
       "      <td>152.0</td>\n",
       "      <td>1.0</td>\n",
       "      <td>Zone N</td>\n",
       "      <td>Zone AC</td>\n",
       "      <td>33.0</td>\n",
       "      <td>27.0</td>\n",
       "    </tr>\n",
       "    <tr>\n",
       "      <th>4</th>\n",
       "      <td>704251.0</td>\n",
       "      <td>2020-07-16</td>\n",
       "      <td>19.0</td>\n",
       "      <td>23.0</td>\n",
       "      <td>1.0</td>\n",
       "      <td>Zone G</td>\n",
       "      <td>Zone Y</td>\n",
       "      <td>31.0</td>\n",
       "      <td>14.0</td>\n",
       "    </tr>\n",
       "  </tbody>\n",
       "</table>\n",
       "</div>"
      ],
      "text/plain": [
       "   Session ID       Date  Hour of day  Distance to vehicle  Converted to Trip  \\\n",
       "0    335401.0 2020-07-25         17.0                356.0                0.0   \n",
       "1    540099.0 2020-07-24         13.0                334.0                0.0   \n",
       "2    555303.0 2020-07-26         23.0                225.0                0.0   \n",
       "3    685698.0 2020-07-22         11.0                152.0                1.0   \n",
       "4    704251.0 2020-07-16         19.0                 23.0                1.0   \n",
       "\n",
       "  Start zone End zone  Battery starting %  Battery ending %  \n",
       "0     Zone Z      NaN                 NaN               NaN  \n",
       "1     Zone W      NaN                 NaN               NaN  \n",
       "2     Zone H      NaN                 NaN               NaN  \n",
       "3     Zone N  Zone AC                33.0              27.0  \n",
       "4     Zone G   Zone Y                31.0              14.0  "
      ]
     },
     "execution_count": 14,
     "metadata": {},
     "output_type": "execute_result"
    }
   ],
   "source": [
    "dataA.head()"
   ]
  },
  {
   "cell_type": "code",
   "execution_count": 15,
   "id": "occasional-struggle",
   "metadata": {
    "ExecuteTime": {
     "end_time": "2021-02-14T21:56:18.326302Z",
     "start_time": "2021-02-14T21:56:18.009711Z"
    }
   },
   "outputs": [],
   "source": [
    "dataB = xl.parse(\"Dataset B\")"
   ]
  },
  {
   "cell_type": "code",
   "execution_count": 19,
   "id": "ambient-jewel",
   "metadata": {
    "ExecuteTime": {
     "end_time": "2021-02-14T22:04:43.667941Z",
     "start_time": "2021-02-14T22:04:43.636692Z"
    }
   },
   "outputs": [
    {
     "name": "stdout",
     "output_type": "stream",
     "text": [
      "<class 'pandas.core.frame.DataFrame'>\n",
      "RangeIndex: 1050 entries, 0 to 1049\n",
      "Data columns (total 10 columns):\n",
      " #   Column              Non-Null Count  Dtype         \n",
      "---  ------              --------------  -----         \n",
      " 0   Date                504 non-null    datetime64[ns]\n",
      " 1   Zone name           504 non-null    object        \n",
      " 2   Demand (sessions)   504 non-null    float64       \n",
      " 3   Unconverted demand  504 non-null    float64       \n",
      " 4   Trip starts         504 non-null    float64       \n",
      " 5   Trip ends           504 non-null    float64       \n",
      " 6   Active vehicles     504 non-null    float64       \n",
      " 7   Zeroed vehicles     504 non-null    float64       \n",
      " 8   Inactive vehicles   504 non-null    float64       \n",
      " 9   Decayed vehicles    504 non-null    float64       \n",
      "dtypes: datetime64[ns](1), float64(8), object(1)\n",
      "memory usage: 82.2+ KB\n"
     ]
    }
   ],
   "source": [
    "dataB.info()"
   ]
  },
  {
   "cell_type": "code",
   "execution_count": 16,
   "id": "elementary-southwest",
   "metadata": {
    "ExecuteTime": {
     "end_time": "2021-02-14T21:56:28.438727Z",
     "start_time": "2021-02-14T21:56:28.385386Z"
    }
   },
   "outputs": [
    {
     "data": {
      "text/html": [
       "<div>\n",
       "<style scoped>\n",
       "    .dataframe tbody tr th:only-of-type {\n",
       "        vertical-align: middle;\n",
       "    }\n",
       "\n",
       "    .dataframe tbody tr th {\n",
       "        vertical-align: top;\n",
       "    }\n",
       "\n",
       "    .dataframe thead th {\n",
       "        text-align: right;\n",
       "    }\n",
       "</style>\n",
       "<table border=\"1\" class=\"dataframe\">\n",
       "  <thead>\n",
       "    <tr style=\"text-align: right;\">\n",
       "      <th></th>\n",
       "      <th>Date</th>\n",
       "      <th>Zone name</th>\n",
       "      <th>Demand (sessions)</th>\n",
       "      <th>Unconverted demand</th>\n",
       "      <th>Trip starts</th>\n",
       "      <th>Trip ends</th>\n",
       "      <th>Active vehicles</th>\n",
       "      <th>Zeroed vehicles</th>\n",
       "      <th>Inactive vehicles</th>\n",
       "      <th>Decayed vehicles</th>\n",
       "    </tr>\n",
       "  </thead>\n",
       "  <tbody>\n",
       "    <tr>\n",
       "      <th>0</th>\n",
       "      <td>2020-07-13</td>\n",
       "      <td>Warehouse</td>\n",
       "      <td>0.0</td>\n",
       "      <td>0.0</td>\n",
       "      <td>0.0</td>\n",
       "      <td>0.0</td>\n",
       "      <td>0.0</td>\n",
       "      <td>0.0</td>\n",
       "      <td>21.0</td>\n",
       "      <td>0.0</td>\n",
       "    </tr>\n",
       "    <tr>\n",
       "      <th>1</th>\n",
       "      <td>2020-07-13</td>\n",
       "      <td>Zone A</td>\n",
       "      <td>21.0</td>\n",
       "      <td>8.0</td>\n",
       "      <td>13.0</td>\n",
       "      <td>8.0</td>\n",
       "      <td>15.0</td>\n",
       "      <td>1.0</td>\n",
       "      <td>1.0</td>\n",
       "      <td>0.0</td>\n",
       "    </tr>\n",
       "    <tr>\n",
       "      <th>2</th>\n",
       "      <td>2020-07-13</td>\n",
       "      <td>Zone AA</td>\n",
       "      <td>3.0</td>\n",
       "      <td>2.0</td>\n",
       "      <td>1.0</td>\n",
       "      <td>3.0</td>\n",
       "      <td>5.0</td>\n",
       "      <td>2.0</td>\n",
       "      <td>1.0</td>\n",
       "      <td>0.0</td>\n",
       "    </tr>\n",
       "    <tr>\n",
       "      <th>3</th>\n",
       "      <td>2020-07-13</td>\n",
       "      <td>Zone AB</td>\n",
       "      <td>4.0</td>\n",
       "      <td>3.0</td>\n",
       "      <td>1.0</td>\n",
       "      <td>1.0</td>\n",
       "      <td>3.0</td>\n",
       "      <td>1.0</td>\n",
       "      <td>0.0</td>\n",
       "      <td>0.0</td>\n",
       "    </tr>\n",
       "    <tr>\n",
       "      <th>4</th>\n",
       "      <td>2020-07-13</td>\n",
       "      <td>Zone AC</td>\n",
       "      <td>4.0</td>\n",
       "      <td>2.0</td>\n",
       "      <td>2.0</td>\n",
       "      <td>1.0</td>\n",
       "      <td>4.0</td>\n",
       "      <td>0.0</td>\n",
       "      <td>0.0</td>\n",
       "      <td>0.0</td>\n",
       "    </tr>\n",
       "  </tbody>\n",
       "</table>\n",
       "</div>"
      ],
      "text/plain": [
       "        Date  Zone name  Demand (sessions)  Unconverted demand  Trip starts  \\\n",
       "0 2020-07-13  Warehouse                0.0                 0.0          0.0   \n",
       "1 2020-07-13     Zone A               21.0                 8.0         13.0   \n",
       "2 2020-07-13    Zone AA                3.0                 2.0          1.0   \n",
       "3 2020-07-13    Zone AB                4.0                 3.0          1.0   \n",
       "4 2020-07-13    Zone AC                4.0                 2.0          2.0   \n",
       "\n",
       "   Trip ends  Active vehicles  Zeroed vehicles  Inactive vehicles  \\\n",
       "0        0.0              0.0              0.0               21.0   \n",
       "1        8.0             15.0              1.0                1.0   \n",
       "2        3.0              5.0              2.0                1.0   \n",
       "3        1.0              3.0              1.0                0.0   \n",
       "4        1.0              4.0              0.0                0.0   \n",
       "\n",
       "   Decayed vehicles  \n",
       "0               0.0  \n",
       "1               0.0  \n",
       "2               0.0  \n",
       "3               0.0  \n",
       "4               0.0  "
      ]
     },
     "execution_count": 16,
     "metadata": {},
     "output_type": "execute_result"
    }
   ],
   "source": [
    "dataB.head()"
   ]
  },
  {
   "cell_type": "markdown",
   "id": "wrapped-disorder",
   "metadata": {},
   "source": [
    "# Top and Worse Performing Zones"
   ]
  },
  {
   "cell_type": "markdown",
   "id": "opponent-immigration",
   "metadata": {},
   "source": [
    "Based on our trip data, which are our top performing zones and which\n",
    "are our worst performing zones?"
   ]
  },
  {
   "cell_type": "code",
   "execution_count": 44,
   "id": "related-richmond",
   "metadata": {
    "ExecuteTime": {
     "end_time": "2021-02-14T22:15:40.899977Z",
     "start_time": "2021-02-14T22:15:40.884352Z"
    }
   },
   "outputs": [
    {
     "name": "stdout",
     "output_type": "stream",
     "text": [
      "The number of zones where trips begin in dataA are 35\n",
      "\n",
      "['Zone Z' 'Zone W' 'Zone H' 'Zone N' 'Zone G' 'Zone B' 'Zone L' 'Zone AH'\n",
      " 'Zone A' 'Zone AA' 'Zone R' 'Zone S' 'Zone X' 'Zone M' 'Zone E' 'Zone Q'\n",
      " 'Zone F' 'Zone AE' 'Zone I' 'Zone Y' 'Zone T' 'Zone D' 'Zone P' 'Zone O'\n",
      " 'Zone AG' 'Zone AI' 'Zone K' 'Zone AD' 'Zone AF' 'Zone C' 'Zone V'\n",
      " 'Zone AB' 'Zone AC' 'Zone U' 'Zone J' nan]\n"
     ]
    }
   ],
   "source": [
    "# Let's explore how many zones we have in dataA\n",
    "dataA_zones = dataA['Start zone'].nunique()\n",
    "print(f'The number of zones where trips begin in dataA are {dataA_zones}')\n",
    "print('')\n",
    "print(dataA['Start zone'].unique())"
   ]
  },
  {
   "cell_type": "code",
   "execution_count": 46,
   "id": "daily-stock",
   "metadata": {
    "ExecuteTime": {
     "end_time": "2021-02-14T22:16:03.542728Z",
     "start_time": "2021-02-14T22:16:03.511610Z"
    }
   },
   "outputs": [
    {
     "name": "stdout",
     "output_type": "stream",
     "text": [
      "The number of zones where trips begin in dataB are 36\n",
      "\n",
      "['Warehouse' 'Zone A' 'Zone AA' 'Zone AB' 'Zone AC' 'Zone AD' 'Zone AE'\n",
      " 'Zone AF' 'Zone AG' 'Zone AH' 'Zone AI' 'Zone B' 'Zone C' 'Zone D'\n",
      " 'Zone E' 'Zone F' 'Zone G' 'Zone H' 'Zone I' 'Zone J' 'Zone K' 'Zone L'\n",
      " 'Zone M' 'Zone N' 'Zone O' 'Zone P' 'Zone Q' 'Zone R' 'Zone S' 'Zone T'\n",
      " 'Zone U' 'Zone V' 'Zone W' 'Zone X' 'Zone Y' 'Zone Z' nan]\n"
     ]
    }
   ],
   "source": [
    "# Let's explore how many zones we have in dataB\n",
    "dataB_zones = dataB['Zone name'].nunique()\n",
    "print(f'The number of zones where trips begin in dataB are {dataB_zones}')\n",
    "print('')\n",
    "print(dataB['Zone name'].unique())"
   ]
  },
  {
   "cell_type": "markdown",
   "id": "bronze-generator",
   "metadata": {},
   "source": [
    "To find the top and worse performing zones we will group by zone and sum the number of 'Converted to Trip'"
   ]
  },
  {
   "cell_type": "markdown",
   "id": "virgin-ordinance",
   "metadata": {},
   "source": [
    "Those zones which no registry was kept will be removed"
   ]
  },
  {
   "cell_type": "code",
   "execution_count": 66,
   "id": "powered-steal",
   "metadata": {
    "ExecuteTime": {
     "end_time": "2021-02-14T22:46:19.786480Z",
     "start_time": "2021-02-14T22:46:19.770838Z"
    }
   },
   "outputs": [],
   "source": [
    "dataA = dataA[dataA['Start zone'].notna()]\n"
   ]
  },
  {
   "cell_type": "code",
   "execution_count": 73,
   "id": "entire-bibliography",
   "metadata": {
    "ExecuteTime": {
     "end_time": "2021-02-14T22:51:57.304698Z",
     "start_time": "2021-02-14T22:51:57.220041Z"
    }
   },
   "outputs": [
    {
     "name": "stderr",
     "output_type": "stream",
     "text": [
      "<ipython-input-73-890d663cbece>:1: FutureWarning:\n",
      "\n",
      "Indexing with multiple keys (implicitly converted to a tuple of keys) will be deprecated, use a list instead.\n",
      "\n"
     ]
    },
    {
     "data": {
      "text/html": [
       "<div>\n",
       "<style scoped>\n",
       "    .dataframe tbody tr th:only-of-type {\n",
       "        vertical-align: middle;\n",
       "    }\n",
       "\n",
       "    .dataframe tbody tr th {\n",
       "        vertical-align: top;\n",
       "    }\n",
       "\n",
       "    .dataframe thead th {\n",
       "        text-align: right;\n",
       "    }\n",
       "</style>\n",
       "<table border=\"1\" class=\"dataframe\">\n",
       "  <thead>\n",
       "    <tr style=\"text-align: right;\">\n",
       "      <th></th>\n",
       "      <th>Start zone</th>\n",
       "      <th>Converted to Trip</th>\n",
       "      <th>Hour of day</th>\n",
       "    </tr>\n",
       "  </thead>\n",
       "  <tbody>\n",
       "    <tr>\n",
       "      <th>15</th>\n",
       "      <td>Zone G</td>\n",
       "      <td>773.0</td>\n",
       "      <td>17876.0</td>\n",
       "    </tr>\n",
       "    <tr>\n",
       "      <th>10</th>\n",
       "      <td>Zone B</td>\n",
       "      <td>429.0</td>\n",
       "      <td>10319.0</td>\n",
       "    </tr>\n",
       "    <tr>\n",
       "      <th>12</th>\n",
       "      <td>Zone D</td>\n",
       "      <td>337.0</td>\n",
       "      <td>8199.0</td>\n",
       "    </tr>\n",
       "    <tr>\n",
       "      <th>24</th>\n",
       "      <td>Zone P</td>\n",
       "      <td>247.0</td>\n",
       "      <td>4585.0</td>\n",
       "    </tr>\n",
       "    <tr>\n",
       "      <th>0</th>\n",
       "      <td>Zone A</td>\n",
       "      <td>235.0</td>\n",
       "      <td>4677.0</td>\n",
       "    </tr>\n",
       "    <tr>\n",
       "      <th>19</th>\n",
       "      <td>Zone K</td>\n",
       "      <td>197.0</td>\n",
       "      <td>4990.0</td>\n",
       "    </tr>\n",
       "    <tr>\n",
       "      <th>27</th>\n",
       "      <td>Zone S</td>\n",
       "      <td>160.0</td>\n",
       "      <td>2866.0</td>\n",
       "    </tr>\n",
       "    <tr>\n",
       "      <th>16</th>\n",
       "      <td>Zone H</td>\n",
       "      <td>150.0</td>\n",
       "      <td>4314.0</td>\n",
       "    </tr>\n",
       "    <tr>\n",
       "      <th>13</th>\n",
       "      <td>Zone E</td>\n",
       "      <td>122.0</td>\n",
       "      <td>3599.0</td>\n",
       "    </tr>\n",
       "    <tr>\n",
       "      <th>14</th>\n",
       "      <td>Zone F</td>\n",
       "      <td>108.0</td>\n",
       "      <td>3301.0</td>\n",
       "    </tr>\n",
       "    <tr>\n",
       "      <th>1</th>\n",
       "      <td>Zone AA</td>\n",
       "      <td>63.0</td>\n",
       "      <td>1453.0</td>\n",
       "    </tr>\n",
       "    <tr>\n",
       "      <th>32</th>\n",
       "      <td>Zone X</td>\n",
       "      <td>62.0</td>\n",
       "      <td>1510.0</td>\n",
       "    </tr>\n",
       "    <tr>\n",
       "      <th>25</th>\n",
       "      <td>Zone Q</td>\n",
       "      <td>54.0</td>\n",
       "      <td>1446.0</td>\n",
       "    </tr>\n",
       "    <tr>\n",
       "      <th>34</th>\n",
       "      <td>Zone Z</td>\n",
       "      <td>53.0</td>\n",
       "      <td>1495.0</td>\n",
       "    </tr>\n",
       "    <tr>\n",
       "      <th>11</th>\n",
       "      <td>Zone C</td>\n",
       "      <td>53.0</td>\n",
       "      <td>1629.0</td>\n",
       "    </tr>\n",
       "    <tr>\n",
       "      <th>26</th>\n",
       "      <td>Zone R</td>\n",
       "      <td>47.0</td>\n",
       "      <td>1147.0</td>\n",
       "    </tr>\n",
       "    <tr>\n",
       "      <th>33</th>\n",
       "      <td>Zone Y</td>\n",
       "      <td>31.0</td>\n",
       "      <td>1008.0</td>\n",
       "    </tr>\n",
       "    <tr>\n",
       "      <th>28</th>\n",
       "      <td>Zone T</td>\n",
       "      <td>30.0</td>\n",
       "      <td>916.0</td>\n",
       "    </tr>\n",
       "    <tr>\n",
       "      <th>21</th>\n",
       "      <td>Zone M</td>\n",
       "      <td>28.0</td>\n",
       "      <td>1329.0</td>\n",
       "    </tr>\n",
       "    <tr>\n",
       "      <th>22</th>\n",
       "      <td>Zone N</td>\n",
       "      <td>28.0</td>\n",
       "      <td>801.0</td>\n",
       "    </tr>\n",
       "    <tr>\n",
       "      <th>5</th>\n",
       "      <td>Zone AE</td>\n",
       "      <td>25.0</td>\n",
       "      <td>777.0</td>\n",
       "    </tr>\n",
       "    <tr>\n",
       "      <th>8</th>\n",
       "      <td>Zone AH</td>\n",
       "      <td>25.0</td>\n",
       "      <td>1037.0</td>\n",
       "    </tr>\n",
       "    <tr>\n",
       "      <th>6</th>\n",
       "      <td>Zone AF</td>\n",
       "      <td>22.0</td>\n",
       "      <td>856.0</td>\n",
       "    </tr>\n",
       "    <tr>\n",
       "      <th>3</th>\n",
       "      <td>Zone AC</td>\n",
       "      <td>21.0</td>\n",
       "      <td>708.0</td>\n",
       "    </tr>\n",
       "    <tr>\n",
       "      <th>4</th>\n",
       "      <td>Zone AD</td>\n",
       "      <td>19.0</td>\n",
       "      <td>619.0</td>\n",
       "    </tr>\n",
       "    <tr>\n",
       "      <th>31</th>\n",
       "      <td>Zone W</td>\n",
       "      <td>18.0</td>\n",
       "      <td>631.0</td>\n",
       "    </tr>\n",
       "    <tr>\n",
       "      <th>2</th>\n",
       "      <td>Zone AB</td>\n",
       "      <td>18.0</td>\n",
       "      <td>952.0</td>\n",
       "    </tr>\n",
       "    <tr>\n",
       "      <th>17</th>\n",
       "      <td>Zone I</td>\n",
       "      <td>17.0</td>\n",
       "      <td>839.0</td>\n",
       "    </tr>\n",
       "    <tr>\n",
       "      <th>20</th>\n",
       "      <td>Zone L</td>\n",
       "      <td>16.0</td>\n",
       "      <td>359.0</td>\n",
       "    </tr>\n",
       "    <tr>\n",
       "      <th>23</th>\n",
       "      <td>Zone O</td>\n",
       "      <td>16.0</td>\n",
       "      <td>592.0</td>\n",
       "    </tr>\n",
       "    <tr>\n",
       "      <th>7</th>\n",
       "      <td>Zone AG</td>\n",
       "      <td>16.0</td>\n",
       "      <td>693.0</td>\n",
       "    </tr>\n",
       "    <tr>\n",
       "      <th>9</th>\n",
       "      <td>Zone AI</td>\n",
       "      <td>13.0</td>\n",
       "      <td>412.0</td>\n",
       "    </tr>\n",
       "    <tr>\n",
       "      <th>18</th>\n",
       "      <td>Zone J</td>\n",
       "      <td>9.0</td>\n",
       "      <td>384.0</td>\n",
       "    </tr>\n",
       "    <tr>\n",
       "      <th>29</th>\n",
       "      <td>Zone U</td>\n",
       "      <td>8.0</td>\n",
       "      <td>208.0</td>\n",
       "    </tr>\n",
       "    <tr>\n",
       "      <th>30</th>\n",
       "      <td>Zone V</td>\n",
       "      <td>3.0</td>\n",
       "      <td>141.0</td>\n",
       "    </tr>\n",
       "  </tbody>\n",
       "</table>\n",
       "</div>"
      ],
      "text/plain": [
       "   Start zone  Converted to Trip  Hour of day\n",
       "15     Zone G              773.0      17876.0\n",
       "10     Zone B              429.0      10319.0\n",
       "12     Zone D              337.0       8199.0\n",
       "24     Zone P              247.0       4585.0\n",
       "0      Zone A              235.0       4677.0\n",
       "19     Zone K              197.0       4990.0\n",
       "27     Zone S              160.0       2866.0\n",
       "16     Zone H              150.0       4314.0\n",
       "13     Zone E              122.0       3599.0\n",
       "14     Zone F              108.0       3301.0\n",
       "1     Zone AA               63.0       1453.0\n",
       "32     Zone X               62.0       1510.0\n",
       "25     Zone Q               54.0       1446.0\n",
       "34     Zone Z               53.0       1495.0\n",
       "11     Zone C               53.0       1629.0\n",
       "26     Zone R               47.0       1147.0\n",
       "33     Zone Y               31.0       1008.0\n",
       "28     Zone T               30.0        916.0\n",
       "21     Zone M               28.0       1329.0\n",
       "22     Zone N               28.0        801.0\n",
       "5     Zone AE               25.0        777.0\n",
       "8     Zone AH               25.0       1037.0\n",
       "6     Zone AF               22.0        856.0\n",
       "3     Zone AC               21.0        708.0\n",
       "4     Zone AD               19.0        619.0\n",
       "31     Zone W               18.0        631.0\n",
       "2     Zone AB               18.0        952.0\n",
       "17     Zone I               17.0        839.0\n",
       "20     Zone L               16.0        359.0\n",
       "23     Zone O               16.0        592.0\n",
       "7     Zone AG               16.0        693.0\n",
       "9     Zone AI               13.0        412.0\n",
       "18     Zone J                9.0        384.0\n",
       "29     Zone U                8.0        208.0\n",
       "30     Zone V                3.0        141.0"
      ]
     },
     "execution_count": 73,
     "metadata": {},
     "output_type": "execute_result"
    }
   ],
   "source": [
    "performance_df = dataA.groupby(['Start zone'],sort=True)['Converted to Trip', 'Hour of day'].agg('sum').reset_index()\n",
    "performance_df.sort_values(by = ['Converted to Trip'], ascending=[False])"
   ]
  },
  {
   "cell_type": "code",
   "execution_count": 70,
   "id": "practical-exploration",
   "metadata": {
    "ExecuteTime": {
     "end_time": "2021-02-14T22:47:20.716306Z",
     "start_time": "2021-02-14T22:47:20.584742Z"
    },
    "scrolled": false
   },
   "outputs": [
    {
     "data": {
      "application/vnd.plotly.v1+json": {
       "config": {
        "plotlyServerURL": "https://plot.ly"
       },
       "data": [
        {
         "alignmentgroup": "True",
         "hovertemplate": "Start zone=%{x}<br>Converted to Trip=%{y}<extra></extra>",
         "legendgroup": "",
         "marker": {
          "color": "#636efa"
         },
         "name": "",
         "offsetgroup": "",
         "orientation": "v",
         "showlegend": false,
         "textposition": "auto",
         "type": "bar",
         "x": [
          "Zone A",
          "Zone AA",
          "Zone AB",
          "Zone AC",
          "Zone AD",
          "Zone AE",
          "Zone AF",
          "Zone AG",
          "Zone AH",
          "Zone AI",
          "Zone B",
          "Zone C",
          "Zone D",
          "Zone E",
          "Zone F",
          "Zone G",
          "Zone H",
          "Zone I",
          "Zone J",
          "Zone K",
          "Zone L",
          "Zone M",
          "Zone N",
          "Zone O",
          "Zone P",
          "Zone Q",
          "Zone R",
          "Zone S",
          "Zone T",
          "Zone U",
          "Zone V",
          "Zone W",
          "Zone X",
          "Zone Y",
          "Zone Z"
         ],
         "xaxis": "x",
         "y": [
          235,
          63,
          18,
          21,
          19,
          25,
          22,
          16,
          25,
          13,
          429,
          53,
          337,
          122,
          108,
          773,
          150,
          17,
          9,
          197,
          16,
          28,
          28,
          16,
          247,
          54,
          47,
          160,
          30,
          8,
          3,
          18,
          62,
          31,
          53
         ],
         "yaxis": "y"
        }
       ],
       "layout": {
        "barmode": "relative",
        "legend": {
         "tracegroupgap": 0
        },
        "margin": {
         "t": 60
        },
        "template": {
         "data": {
          "bar": [
           {
            "error_x": {
             "color": "#2a3f5f"
            },
            "error_y": {
             "color": "#2a3f5f"
            },
            "marker": {
             "line": {
              "color": "#E5ECF6",
              "width": 0.5
             }
            },
            "type": "bar"
           }
          ],
          "barpolar": [
           {
            "marker": {
             "line": {
              "color": "#E5ECF6",
              "width": 0.5
             }
            },
            "type": "barpolar"
           }
          ],
          "carpet": [
           {
            "aaxis": {
             "endlinecolor": "#2a3f5f",
             "gridcolor": "white",
             "linecolor": "white",
             "minorgridcolor": "white",
             "startlinecolor": "#2a3f5f"
            },
            "baxis": {
             "endlinecolor": "#2a3f5f",
             "gridcolor": "white",
             "linecolor": "white",
             "minorgridcolor": "white",
             "startlinecolor": "#2a3f5f"
            },
            "type": "carpet"
           }
          ],
          "choropleth": [
           {
            "colorbar": {
             "outlinewidth": 0,
             "ticks": ""
            },
            "type": "choropleth"
           }
          ],
          "contour": [
           {
            "colorbar": {
             "outlinewidth": 0,
             "ticks": ""
            },
            "colorscale": [
             [
              0,
              "#0d0887"
             ],
             [
              0.1111111111111111,
              "#46039f"
             ],
             [
              0.2222222222222222,
              "#7201a8"
             ],
             [
              0.3333333333333333,
              "#9c179e"
             ],
             [
              0.4444444444444444,
              "#bd3786"
             ],
             [
              0.5555555555555556,
              "#d8576b"
             ],
             [
              0.6666666666666666,
              "#ed7953"
             ],
             [
              0.7777777777777778,
              "#fb9f3a"
             ],
             [
              0.8888888888888888,
              "#fdca26"
             ],
             [
              1,
              "#f0f921"
             ]
            ],
            "type": "contour"
           }
          ],
          "contourcarpet": [
           {
            "colorbar": {
             "outlinewidth": 0,
             "ticks": ""
            },
            "type": "contourcarpet"
           }
          ],
          "heatmap": [
           {
            "colorbar": {
             "outlinewidth": 0,
             "ticks": ""
            },
            "colorscale": [
             [
              0,
              "#0d0887"
             ],
             [
              0.1111111111111111,
              "#46039f"
             ],
             [
              0.2222222222222222,
              "#7201a8"
             ],
             [
              0.3333333333333333,
              "#9c179e"
             ],
             [
              0.4444444444444444,
              "#bd3786"
             ],
             [
              0.5555555555555556,
              "#d8576b"
             ],
             [
              0.6666666666666666,
              "#ed7953"
             ],
             [
              0.7777777777777778,
              "#fb9f3a"
             ],
             [
              0.8888888888888888,
              "#fdca26"
             ],
             [
              1,
              "#f0f921"
             ]
            ],
            "type": "heatmap"
           }
          ],
          "heatmapgl": [
           {
            "colorbar": {
             "outlinewidth": 0,
             "ticks": ""
            },
            "colorscale": [
             [
              0,
              "#0d0887"
             ],
             [
              0.1111111111111111,
              "#46039f"
             ],
             [
              0.2222222222222222,
              "#7201a8"
             ],
             [
              0.3333333333333333,
              "#9c179e"
             ],
             [
              0.4444444444444444,
              "#bd3786"
             ],
             [
              0.5555555555555556,
              "#d8576b"
             ],
             [
              0.6666666666666666,
              "#ed7953"
             ],
             [
              0.7777777777777778,
              "#fb9f3a"
             ],
             [
              0.8888888888888888,
              "#fdca26"
             ],
             [
              1,
              "#f0f921"
             ]
            ],
            "type": "heatmapgl"
           }
          ],
          "histogram": [
           {
            "marker": {
             "colorbar": {
              "outlinewidth": 0,
              "ticks": ""
             }
            },
            "type": "histogram"
           }
          ],
          "histogram2d": [
           {
            "colorbar": {
             "outlinewidth": 0,
             "ticks": ""
            },
            "colorscale": [
             [
              0,
              "#0d0887"
             ],
             [
              0.1111111111111111,
              "#46039f"
             ],
             [
              0.2222222222222222,
              "#7201a8"
             ],
             [
              0.3333333333333333,
              "#9c179e"
             ],
             [
              0.4444444444444444,
              "#bd3786"
             ],
             [
              0.5555555555555556,
              "#d8576b"
             ],
             [
              0.6666666666666666,
              "#ed7953"
             ],
             [
              0.7777777777777778,
              "#fb9f3a"
             ],
             [
              0.8888888888888888,
              "#fdca26"
             ],
             [
              1,
              "#f0f921"
             ]
            ],
            "type": "histogram2d"
           }
          ],
          "histogram2dcontour": [
           {
            "colorbar": {
             "outlinewidth": 0,
             "ticks": ""
            },
            "colorscale": [
             [
              0,
              "#0d0887"
             ],
             [
              0.1111111111111111,
              "#46039f"
             ],
             [
              0.2222222222222222,
              "#7201a8"
             ],
             [
              0.3333333333333333,
              "#9c179e"
             ],
             [
              0.4444444444444444,
              "#bd3786"
             ],
             [
              0.5555555555555556,
              "#d8576b"
             ],
             [
              0.6666666666666666,
              "#ed7953"
             ],
             [
              0.7777777777777778,
              "#fb9f3a"
             ],
             [
              0.8888888888888888,
              "#fdca26"
             ],
             [
              1,
              "#f0f921"
             ]
            ],
            "type": "histogram2dcontour"
           }
          ],
          "mesh3d": [
           {
            "colorbar": {
             "outlinewidth": 0,
             "ticks": ""
            },
            "type": "mesh3d"
           }
          ],
          "parcoords": [
           {
            "line": {
             "colorbar": {
              "outlinewidth": 0,
              "ticks": ""
             }
            },
            "type": "parcoords"
           }
          ],
          "pie": [
           {
            "automargin": true,
            "type": "pie"
           }
          ],
          "scatter": [
           {
            "marker": {
             "colorbar": {
              "outlinewidth": 0,
              "ticks": ""
             }
            },
            "type": "scatter"
           }
          ],
          "scatter3d": [
           {
            "line": {
             "colorbar": {
              "outlinewidth": 0,
              "ticks": ""
             }
            },
            "marker": {
             "colorbar": {
              "outlinewidth": 0,
              "ticks": ""
             }
            },
            "type": "scatter3d"
           }
          ],
          "scattercarpet": [
           {
            "marker": {
             "colorbar": {
              "outlinewidth": 0,
              "ticks": ""
             }
            },
            "type": "scattercarpet"
           }
          ],
          "scattergeo": [
           {
            "marker": {
             "colorbar": {
              "outlinewidth": 0,
              "ticks": ""
             }
            },
            "type": "scattergeo"
           }
          ],
          "scattergl": [
           {
            "marker": {
             "colorbar": {
              "outlinewidth": 0,
              "ticks": ""
             }
            },
            "type": "scattergl"
           }
          ],
          "scattermapbox": [
           {
            "marker": {
             "colorbar": {
              "outlinewidth": 0,
              "ticks": ""
             }
            },
            "type": "scattermapbox"
           }
          ],
          "scatterpolar": [
           {
            "marker": {
             "colorbar": {
              "outlinewidth": 0,
              "ticks": ""
             }
            },
            "type": "scatterpolar"
           }
          ],
          "scatterpolargl": [
           {
            "marker": {
             "colorbar": {
              "outlinewidth": 0,
              "ticks": ""
             }
            },
            "type": "scatterpolargl"
           }
          ],
          "scatterternary": [
           {
            "marker": {
             "colorbar": {
              "outlinewidth": 0,
              "ticks": ""
             }
            },
            "type": "scatterternary"
           }
          ],
          "surface": [
           {
            "colorbar": {
             "outlinewidth": 0,
             "ticks": ""
            },
            "colorscale": [
             [
              0,
              "#0d0887"
             ],
             [
              0.1111111111111111,
              "#46039f"
             ],
             [
              0.2222222222222222,
              "#7201a8"
             ],
             [
              0.3333333333333333,
              "#9c179e"
             ],
             [
              0.4444444444444444,
              "#bd3786"
             ],
             [
              0.5555555555555556,
              "#d8576b"
             ],
             [
              0.6666666666666666,
              "#ed7953"
             ],
             [
              0.7777777777777778,
              "#fb9f3a"
             ],
             [
              0.8888888888888888,
              "#fdca26"
             ],
             [
              1,
              "#f0f921"
             ]
            ],
            "type": "surface"
           }
          ],
          "table": [
           {
            "cells": {
             "fill": {
              "color": "#EBF0F8"
             },
             "line": {
              "color": "white"
             }
            },
            "header": {
             "fill": {
              "color": "#C8D4E3"
             },
             "line": {
              "color": "white"
             }
            },
            "type": "table"
           }
          ]
         },
         "layout": {
          "annotationdefaults": {
           "arrowcolor": "#2a3f5f",
           "arrowhead": 0,
           "arrowwidth": 1
          },
          "autotypenumbers": "strict",
          "coloraxis": {
           "colorbar": {
            "outlinewidth": 0,
            "ticks": ""
           }
          },
          "colorscale": {
           "diverging": [
            [
             0,
             "#8e0152"
            ],
            [
             0.1,
             "#c51b7d"
            ],
            [
             0.2,
             "#de77ae"
            ],
            [
             0.3,
             "#f1b6da"
            ],
            [
             0.4,
             "#fde0ef"
            ],
            [
             0.5,
             "#f7f7f7"
            ],
            [
             0.6,
             "#e6f5d0"
            ],
            [
             0.7,
             "#b8e186"
            ],
            [
             0.8,
             "#7fbc41"
            ],
            [
             0.9,
             "#4d9221"
            ],
            [
             1,
             "#276419"
            ]
           ],
           "sequential": [
            [
             0,
             "#0d0887"
            ],
            [
             0.1111111111111111,
             "#46039f"
            ],
            [
             0.2222222222222222,
             "#7201a8"
            ],
            [
             0.3333333333333333,
             "#9c179e"
            ],
            [
             0.4444444444444444,
             "#bd3786"
            ],
            [
             0.5555555555555556,
             "#d8576b"
            ],
            [
             0.6666666666666666,
             "#ed7953"
            ],
            [
             0.7777777777777778,
             "#fb9f3a"
            ],
            [
             0.8888888888888888,
             "#fdca26"
            ],
            [
             1,
             "#f0f921"
            ]
           ],
           "sequentialminus": [
            [
             0,
             "#0d0887"
            ],
            [
             0.1111111111111111,
             "#46039f"
            ],
            [
             0.2222222222222222,
             "#7201a8"
            ],
            [
             0.3333333333333333,
             "#9c179e"
            ],
            [
             0.4444444444444444,
             "#bd3786"
            ],
            [
             0.5555555555555556,
             "#d8576b"
            ],
            [
             0.6666666666666666,
             "#ed7953"
            ],
            [
             0.7777777777777778,
             "#fb9f3a"
            ],
            [
             0.8888888888888888,
             "#fdca26"
            ],
            [
             1,
             "#f0f921"
            ]
           ]
          },
          "colorway": [
           "#636efa",
           "#EF553B",
           "#00cc96",
           "#ab63fa",
           "#FFA15A",
           "#19d3f3",
           "#FF6692",
           "#B6E880",
           "#FF97FF",
           "#FECB52"
          ],
          "font": {
           "color": "#2a3f5f"
          },
          "geo": {
           "bgcolor": "white",
           "lakecolor": "white",
           "landcolor": "#E5ECF6",
           "showlakes": true,
           "showland": true,
           "subunitcolor": "white"
          },
          "hoverlabel": {
           "align": "left"
          },
          "hovermode": "closest",
          "mapbox": {
           "style": "light"
          },
          "paper_bgcolor": "white",
          "plot_bgcolor": "#E5ECF6",
          "polar": {
           "angularaxis": {
            "gridcolor": "white",
            "linecolor": "white",
            "ticks": ""
           },
           "bgcolor": "#E5ECF6",
           "radialaxis": {
            "gridcolor": "white",
            "linecolor": "white",
            "ticks": ""
           }
          },
          "scene": {
           "xaxis": {
            "backgroundcolor": "#E5ECF6",
            "gridcolor": "white",
            "gridwidth": 2,
            "linecolor": "white",
            "showbackground": true,
            "ticks": "",
            "zerolinecolor": "white"
           },
           "yaxis": {
            "backgroundcolor": "#E5ECF6",
            "gridcolor": "white",
            "gridwidth": 2,
            "linecolor": "white",
            "showbackground": true,
            "ticks": "",
            "zerolinecolor": "white"
           },
           "zaxis": {
            "backgroundcolor": "#E5ECF6",
            "gridcolor": "white",
            "gridwidth": 2,
            "linecolor": "white",
            "showbackground": true,
            "ticks": "",
            "zerolinecolor": "white"
           }
          },
          "shapedefaults": {
           "line": {
            "color": "#2a3f5f"
           }
          },
          "ternary": {
           "aaxis": {
            "gridcolor": "white",
            "linecolor": "white",
            "ticks": ""
           },
           "baxis": {
            "gridcolor": "white",
            "linecolor": "white",
            "ticks": ""
           },
           "bgcolor": "#E5ECF6",
           "caxis": {
            "gridcolor": "white",
            "linecolor": "white",
            "ticks": ""
           }
          },
          "title": {
           "x": 0.05
          },
          "xaxis": {
           "automargin": true,
           "gridcolor": "white",
           "linecolor": "white",
           "ticks": "",
           "title": {
            "standoff": 15
           },
           "zerolinecolor": "white",
           "zerolinewidth": 2
          },
          "yaxis": {
           "automargin": true,
           "gridcolor": "white",
           "linecolor": "white",
           "ticks": "",
           "title": {
            "standoff": 15
           },
           "zerolinecolor": "white",
           "zerolinewidth": 2
          }
         }
        },
        "xaxis": {
         "anchor": "y",
         "domain": [
          0,
          1
         ],
         "title": {
          "text": "Start zone"
         }
        },
        "yaxis": {
         "anchor": "x",
         "domain": [
          0,
          1
         ],
         "title": {
          "text": "Converted to Trip"
         }
        }
       }
      },
      "text/html": [
       "<div>                            <div id=\"4bc79fdf-a8eb-46aa-9dcb-00868cb16a10\" class=\"plotly-graph-div\" style=\"height:525px; width:100%;\"></div>            <script type=\"text/javascript\">                require([\"plotly\"], function(Plotly) {                    window.PLOTLYENV=window.PLOTLYENV || {};                                    if (document.getElementById(\"4bc79fdf-a8eb-46aa-9dcb-00868cb16a10\")) {                    Plotly.newPlot(                        \"4bc79fdf-a8eb-46aa-9dcb-00868cb16a10\",                        [{\"alignmentgroup\": \"True\", \"hovertemplate\": \"Start zone=%{x}<br>Converted to Trip=%{y}<extra></extra>\", \"legendgroup\": \"\", \"marker\": {\"color\": \"#636efa\"}, \"name\": \"\", \"offsetgroup\": \"\", \"orientation\": \"v\", \"showlegend\": false, \"textposition\": \"auto\", \"type\": \"bar\", \"x\": [\"Zone A\", \"Zone AA\", \"Zone AB\", \"Zone AC\", \"Zone AD\", \"Zone AE\", \"Zone AF\", \"Zone AG\", \"Zone AH\", \"Zone AI\", \"Zone B\", \"Zone C\", \"Zone D\", \"Zone E\", \"Zone F\", \"Zone G\", \"Zone H\", \"Zone I\", \"Zone J\", \"Zone K\", \"Zone L\", \"Zone M\", \"Zone N\", \"Zone O\", \"Zone P\", \"Zone Q\", \"Zone R\", \"Zone S\", \"Zone T\", \"Zone U\", \"Zone V\", \"Zone W\", \"Zone X\", \"Zone Y\", \"Zone Z\"], \"xaxis\": \"x\", \"y\": [235.0, 63.0, 18.0, 21.0, 19.0, 25.0, 22.0, 16.0, 25.0, 13.0, 429.0, 53.0, 337.0, 122.0, 108.0, 773.0, 150.0, 17.0, 9.0, 197.0, 16.0, 28.0, 28.0, 16.0, 247.0, 54.0, 47.0, 160.0, 30.0, 8.0, 3.0, 18.0, 62.0, 31.0, 53.0], \"yaxis\": \"y\"}],                        {\"barmode\": \"relative\", \"legend\": {\"tracegroupgap\": 0}, \"margin\": {\"t\": 60}, \"template\": {\"data\": {\"bar\": [{\"error_x\": {\"color\": \"#2a3f5f\"}, \"error_y\": {\"color\": \"#2a3f5f\"}, \"marker\": {\"line\": {\"color\": \"#E5ECF6\", \"width\": 0.5}}, \"type\": \"bar\"}], \"barpolar\": [{\"marker\": {\"line\": {\"color\": \"#E5ECF6\", \"width\": 0.5}}, \"type\": \"barpolar\"}], \"carpet\": [{\"aaxis\": {\"endlinecolor\": \"#2a3f5f\", \"gridcolor\": \"white\", \"linecolor\": \"white\", \"minorgridcolor\": \"white\", \"startlinecolor\": \"#2a3f5f\"}, \"baxis\": {\"endlinecolor\": \"#2a3f5f\", \"gridcolor\": \"white\", \"linecolor\": \"white\", \"minorgridcolor\": \"white\", \"startlinecolor\": \"#2a3f5f\"}, \"type\": \"carpet\"}], \"choropleth\": [{\"colorbar\": {\"outlinewidth\": 0, \"ticks\": \"\"}, \"type\": \"choropleth\"}], \"contour\": [{\"colorbar\": {\"outlinewidth\": 0, \"ticks\": \"\"}, \"colorscale\": [[0.0, \"#0d0887\"], [0.1111111111111111, \"#46039f\"], [0.2222222222222222, \"#7201a8\"], [0.3333333333333333, \"#9c179e\"], [0.4444444444444444, \"#bd3786\"], [0.5555555555555556, \"#d8576b\"], [0.6666666666666666, \"#ed7953\"], [0.7777777777777778, \"#fb9f3a\"], [0.8888888888888888, \"#fdca26\"], [1.0, \"#f0f921\"]], \"type\": \"contour\"}], \"contourcarpet\": [{\"colorbar\": {\"outlinewidth\": 0, \"ticks\": \"\"}, \"type\": \"contourcarpet\"}], \"heatmap\": [{\"colorbar\": {\"outlinewidth\": 0, \"ticks\": \"\"}, \"colorscale\": [[0.0, \"#0d0887\"], [0.1111111111111111, \"#46039f\"], [0.2222222222222222, \"#7201a8\"], [0.3333333333333333, \"#9c179e\"], [0.4444444444444444, \"#bd3786\"], [0.5555555555555556, \"#d8576b\"], [0.6666666666666666, \"#ed7953\"], [0.7777777777777778, \"#fb9f3a\"], [0.8888888888888888, \"#fdca26\"], [1.0, \"#f0f921\"]], \"type\": \"heatmap\"}], \"heatmapgl\": [{\"colorbar\": {\"outlinewidth\": 0, \"ticks\": \"\"}, \"colorscale\": [[0.0, \"#0d0887\"], [0.1111111111111111, \"#46039f\"], [0.2222222222222222, \"#7201a8\"], [0.3333333333333333, \"#9c179e\"], [0.4444444444444444, \"#bd3786\"], [0.5555555555555556, \"#d8576b\"], [0.6666666666666666, \"#ed7953\"], [0.7777777777777778, \"#fb9f3a\"], [0.8888888888888888, \"#fdca26\"], [1.0, \"#f0f921\"]], \"type\": \"heatmapgl\"}], \"histogram\": [{\"marker\": {\"colorbar\": {\"outlinewidth\": 0, \"ticks\": \"\"}}, \"type\": \"histogram\"}], \"histogram2d\": [{\"colorbar\": {\"outlinewidth\": 0, \"ticks\": \"\"}, \"colorscale\": [[0.0, \"#0d0887\"], [0.1111111111111111, \"#46039f\"], [0.2222222222222222, \"#7201a8\"], [0.3333333333333333, \"#9c179e\"], [0.4444444444444444, \"#bd3786\"], [0.5555555555555556, \"#d8576b\"], [0.6666666666666666, \"#ed7953\"], [0.7777777777777778, \"#fb9f3a\"], [0.8888888888888888, \"#fdca26\"], [1.0, \"#f0f921\"]], \"type\": \"histogram2d\"}], \"histogram2dcontour\": [{\"colorbar\": {\"outlinewidth\": 0, \"ticks\": \"\"}, \"colorscale\": [[0.0, \"#0d0887\"], [0.1111111111111111, \"#46039f\"], [0.2222222222222222, \"#7201a8\"], [0.3333333333333333, \"#9c179e\"], [0.4444444444444444, \"#bd3786\"], [0.5555555555555556, \"#d8576b\"], [0.6666666666666666, \"#ed7953\"], [0.7777777777777778, \"#fb9f3a\"], [0.8888888888888888, \"#fdca26\"], [1.0, \"#f0f921\"]], \"type\": \"histogram2dcontour\"}], \"mesh3d\": [{\"colorbar\": {\"outlinewidth\": 0, \"ticks\": \"\"}, \"type\": \"mesh3d\"}], \"parcoords\": [{\"line\": {\"colorbar\": {\"outlinewidth\": 0, \"ticks\": \"\"}}, \"type\": \"parcoords\"}], \"pie\": [{\"automargin\": true, \"type\": \"pie\"}], \"scatter\": [{\"marker\": {\"colorbar\": {\"outlinewidth\": 0, \"ticks\": \"\"}}, \"type\": \"scatter\"}], \"scatter3d\": [{\"line\": {\"colorbar\": {\"outlinewidth\": 0, \"ticks\": \"\"}}, \"marker\": {\"colorbar\": {\"outlinewidth\": 0, \"ticks\": \"\"}}, \"type\": \"scatter3d\"}], \"scattercarpet\": [{\"marker\": {\"colorbar\": {\"outlinewidth\": 0, \"ticks\": \"\"}}, \"type\": \"scattercarpet\"}], \"scattergeo\": [{\"marker\": {\"colorbar\": {\"outlinewidth\": 0, \"ticks\": \"\"}}, \"type\": \"scattergeo\"}], \"scattergl\": [{\"marker\": {\"colorbar\": {\"outlinewidth\": 0, \"ticks\": \"\"}}, \"type\": \"scattergl\"}], \"scattermapbox\": [{\"marker\": {\"colorbar\": {\"outlinewidth\": 0, \"ticks\": \"\"}}, \"type\": \"scattermapbox\"}], \"scatterpolar\": [{\"marker\": {\"colorbar\": {\"outlinewidth\": 0, \"ticks\": \"\"}}, \"type\": \"scatterpolar\"}], \"scatterpolargl\": [{\"marker\": {\"colorbar\": {\"outlinewidth\": 0, \"ticks\": \"\"}}, \"type\": \"scatterpolargl\"}], \"scatterternary\": [{\"marker\": {\"colorbar\": {\"outlinewidth\": 0, \"ticks\": \"\"}}, \"type\": \"scatterternary\"}], \"surface\": [{\"colorbar\": {\"outlinewidth\": 0, \"ticks\": \"\"}, \"colorscale\": [[0.0, \"#0d0887\"], [0.1111111111111111, \"#46039f\"], [0.2222222222222222, \"#7201a8\"], [0.3333333333333333, \"#9c179e\"], [0.4444444444444444, \"#bd3786\"], [0.5555555555555556, \"#d8576b\"], [0.6666666666666666, \"#ed7953\"], [0.7777777777777778, \"#fb9f3a\"], [0.8888888888888888, \"#fdca26\"], [1.0, \"#f0f921\"]], \"type\": \"surface\"}], \"table\": [{\"cells\": {\"fill\": {\"color\": \"#EBF0F8\"}, \"line\": {\"color\": \"white\"}}, \"header\": {\"fill\": {\"color\": \"#C8D4E3\"}, \"line\": {\"color\": \"white\"}}, \"type\": \"table\"}]}, \"layout\": {\"annotationdefaults\": {\"arrowcolor\": \"#2a3f5f\", \"arrowhead\": 0, \"arrowwidth\": 1}, \"autotypenumbers\": \"strict\", \"coloraxis\": {\"colorbar\": {\"outlinewidth\": 0, \"ticks\": \"\"}}, \"colorscale\": {\"diverging\": [[0, \"#8e0152\"], [0.1, \"#c51b7d\"], [0.2, \"#de77ae\"], [0.3, \"#f1b6da\"], [0.4, \"#fde0ef\"], [0.5, \"#f7f7f7\"], [0.6, \"#e6f5d0\"], [0.7, \"#b8e186\"], [0.8, \"#7fbc41\"], [0.9, \"#4d9221\"], [1, \"#276419\"]], \"sequential\": [[0.0, \"#0d0887\"], [0.1111111111111111, \"#46039f\"], [0.2222222222222222, \"#7201a8\"], [0.3333333333333333, \"#9c179e\"], [0.4444444444444444, \"#bd3786\"], [0.5555555555555556, \"#d8576b\"], [0.6666666666666666, \"#ed7953\"], [0.7777777777777778, \"#fb9f3a\"], [0.8888888888888888, \"#fdca26\"], [1.0, \"#f0f921\"]], \"sequentialminus\": [[0.0, \"#0d0887\"], [0.1111111111111111, \"#46039f\"], [0.2222222222222222, \"#7201a8\"], [0.3333333333333333, \"#9c179e\"], [0.4444444444444444, \"#bd3786\"], [0.5555555555555556, \"#d8576b\"], [0.6666666666666666, \"#ed7953\"], [0.7777777777777778, \"#fb9f3a\"], [0.8888888888888888, \"#fdca26\"], [1.0, \"#f0f921\"]]}, \"colorway\": [\"#636efa\", \"#EF553B\", \"#00cc96\", \"#ab63fa\", \"#FFA15A\", \"#19d3f3\", \"#FF6692\", \"#B6E880\", \"#FF97FF\", \"#FECB52\"], \"font\": {\"color\": \"#2a3f5f\"}, \"geo\": {\"bgcolor\": \"white\", \"lakecolor\": \"white\", \"landcolor\": \"#E5ECF6\", \"showlakes\": true, \"showland\": true, \"subunitcolor\": \"white\"}, \"hoverlabel\": {\"align\": \"left\"}, \"hovermode\": \"closest\", \"mapbox\": {\"style\": \"light\"}, \"paper_bgcolor\": \"white\", \"plot_bgcolor\": \"#E5ECF6\", \"polar\": {\"angularaxis\": {\"gridcolor\": \"white\", \"linecolor\": \"white\", \"ticks\": \"\"}, \"bgcolor\": \"#E5ECF6\", \"radialaxis\": {\"gridcolor\": \"white\", \"linecolor\": \"white\", \"ticks\": \"\"}}, \"scene\": {\"xaxis\": {\"backgroundcolor\": \"#E5ECF6\", \"gridcolor\": \"white\", \"gridwidth\": 2, \"linecolor\": \"white\", \"showbackground\": true, \"ticks\": \"\", \"zerolinecolor\": \"white\"}, \"yaxis\": {\"backgroundcolor\": \"#E5ECF6\", \"gridcolor\": \"white\", \"gridwidth\": 2, \"linecolor\": \"white\", \"showbackground\": true, \"ticks\": \"\", \"zerolinecolor\": \"white\"}, \"zaxis\": {\"backgroundcolor\": \"#E5ECF6\", \"gridcolor\": \"white\", \"gridwidth\": 2, \"linecolor\": \"white\", \"showbackground\": true, \"ticks\": \"\", \"zerolinecolor\": \"white\"}}, \"shapedefaults\": {\"line\": {\"color\": \"#2a3f5f\"}}, \"ternary\": {\"aaxis\": {\"gridcolor\": \"white\", \"linecolor\": \"white\", \"ticks\": \"\"}, \"baxis\": {\"gridcolor\": \"white\", \"linecolor\": \"white\", \"ticks\": \"\"}, \"bgcolor\": \"#E5ECF6\", \"caxis\": {\"gridcolor\": \"white\", \"linecolor\": \"white\", \"ticks\": \"\"}}, \"title\": {\"x\": 0.05}, \"xaxis\": {\"automargin\": true, \"gridcolor\": \"white\", \"linecolor\": \"white\", \"ticks\": \"\", \"title\": {\"standoff\": 15}, \"zerolinecolor\": \"white\", \"zerolinewidth\": 2}, \"yaxis\": {\"automargin\": true, \"gridcolor\": \"white\", \"linecolor\": \"white\", \"ticks\": \"\", \"title\": {\"standoff\": 15}, \"zerolinecolor\": \"white\", \"zerolinewidth\": 2}}}, \"xaxis\": {\"anchor\": \"y\", \"domain\": [0.0, 1.0], \"title\": {\"text\": \"Start zone\"}}, \"yaxis\": {\"anchor\": \"x\", \"domain\": [0.0, 1.0], \"title\": {\"text\": \"Converted to Trip\"}}},                        {\"responsive\": true}                    ).then(function(){\n",
       "                            \n",
       "var gd = document.getElementById('4bc79fdf-a8eb-46aa-9dcb-00868cb16a10');\n",
       "var x = new MutationObserver(function (mutations, observer) {{\n",
       "        var display = window.getComputedStyle(gd).display;\n",
       "        if (!display || display === 'none') {{\n",
       "            console.log([gd, 'removed!']);\n",
       "            Plotly.purge(gd);\n",
       "            observer.disconnect();\n",
       "        }}\n",
       "}});\n",
       "\n",
       "// Listen for the removal of the full notebook cells\n",
       "var notebookContainer = gd.closest('#notebook-container');\n",
       "if (notebookContainer) {{\n",
       "    x.observe(notebookContainer, {childList: true});\n",
       "}}\n",
       "\n",
       "// Listen for the clearing of the current output cell\n",
       "var outputEl = gd.closest('.output');\n",
       "if (outputEl) {{\n",
       "    x.observe(outputEl, {childList: true});\n",
       "}}\n",
       "\n",
       "                        })                };                });            </script>        </div>"
      ]
     },
     "metadata": {},
     "output_type": "display_data"
    }
   ],
   "source": [
    "fig = px.bar(performance_df, x='Start zone', y='Converted to Trip')\n",
    "fig.show()"
   ]
  },
  {
   "cell_type": "code",
   "execution_count": 77,
   "id": "productive-dependence",
   "metadata": {
    "ExecuteTime": {
     "end_time": "2021-02-14T23:00:55.255929Z",
     "start_time": "2021-02-14T23:00:52.484745Z"
    },
    "scrolled": true
   },
   "outputs": [
    {
     "data": {
      "text/plain": [
       "<Figure size 1152x576 with 0 Axes>"
      ]
     },
     "metadata": {},
     "output_type": "display_data"
    },
    {
     "data": {
      "image/png": "[encoded data removed]",
      "text/plain": [
       "<Figure size 360x360 with 1 Axes>"
      ]
     },
     "metadata": {
      "needs_background": "light"
     },
     "output_type": "display_data"
    }
   ],
   "source": [
    "plt.figure(figsize = (16,8))\n",
    "\n",
    "lm = sns.lmplot(x = \"Hour of day\", y = \"Converted to Trip\", hue = \"Start zone\", data = performance_df, palette=\"Set1\", legend_out=False)"
   ]
  },
  {
   "cell_type": "code",
   "execution_count": 80,
   "id": "apart-humanitarian",
   "metadata": {
    "ExecuteTime": {
     "end_time": "2021-02-14T23:05:19.151804Z",
     "start_time": "2021-02-14T23:05:18.712659Z"
    }
   },
   "outputs": [
    {
     "data": {
      "application/vnd.plotly.v1+json": {
       "config": {
        "plotlyServerURL": "https://plot.ly"
       },
       "data": [
        {
         "hovertemplate": "Start zone=%{x}<br>Converted to Trip=%{y}<br>Hour of day=%{marker.size}<extra></extra>",
         "legendgroup": "Zone G",
         "marker": {
          "color": "#636efa",
          "size": [
           17876
          ],
          "sizemode": "area",
          "sizeref": 4.9655555555555555,
          "symbol": "circle"
         },
         "mode": "markers",
         "name": "Zone G",
         "orientation": "v",
         "showlegend": true,
         "type": "scatter",
         "x": [
          "Zone G"
         ],
         "xaxis": "x",
         "y": [
          773
         ],
         "yaxis": "y"
        },
        {
         "hovertemplate": "Start zone=%{x}<br>Converted to Trip=%{y}<br>Hour of day=%{marker.size}<extra></extra>",
         "legendgroup": "Zone B",
         "marker": {
          "color": "#EF553B",
          "size": [
           10319
          ],
          "sizemode": "area",
          "sizeref": 4.9655555555555555,
          "symbol": "circle"
         },
         "mode": "markers",
         "name": "Zone B",
         "orientation": "v",
         "showlegend": true,
         "type": "scatter",
         "x": [
          "Zone B"
         ],
         "xaxis": "x",
         "y": [
          429
         ],
         "yaxis": "y"
        },
        {
         "hovertemplate": "Start zone=%{x}<br>Converted to Trip=%{y}<br>Hour of day=%{marker.size}<extra></extra>",
         "legendgroup": "Zone D",
         "marker": {
          "color": "#00cc96",
          "size": [
           8199
          ],
          "sizemode": "area",
          "sizeref": 4.9655555555555555,
          "symbol": "circle"
         },
         "mode": "markers",
         "name": "Zone D",
         "orientation": "v",
         "showlegend": true,
         "type": "scatter",
         "x": [
          "Zone D"
         ],
         "xaxis": "x",
         "y": [
          337
         ],
         "yaxis": "y"
        },
        {
         "hovertemplate": "Start zone=%{x}<br>Converted to Trip=%{y}<br>Hour of day=%{marker.size}<extra></extra>",
         "legendgroup": "Zone P",
         "marker": {
          "color": "#ab63fa",
          "size": [
           4585
          ],
          "sizemode": "area",
          "sizeref": 4.9655555555555555,
          "symbol": "circle"
         },
         "mode": "markers",
         "name": "Zone P",
         "orientation": "v",
         "showlegend": true,
         "type": "scatter",
         "x": [
          "Zone P"
         ],
         "xaxis": "x",
         "y": [
          247
         ],
         "yaxis": "y"
        },
        {
         "hovertemplate": "Start zone=%{x}<br>Converted to Trip=%{y}<br>Hour of day=%{marker.size}<extra></extra>",
         "legendgroup": "Zone A",
         "marker": {
          "color": "#FFA15A",
          "size": [
           4677
          ],
          "sizemode": "area",
          "sizeref": 4.9655555555555555,
          "symbol": "circle"
         },
         "mode": "markers",
         "name": "Zone A",
         "orientation": "v",
         "showlegend": true,
         "type": "scatter",
         "x": [
          "Zone A"
         ],
         "xaxis": "x",
         "y": [
          235
         ],
         "yaxis": "y"
        },
        {
         "hovertemplate": "Start zone=%{x}<br>Converted to Trip=%{y}<br>Hour of day=%{marker.size}<extra></extra>",
         "legendgroup": "Zone K",
         "marker": {
          "color": "#19d3f3",
          "size": [
           4990
          ],
          "sizemode": "area",
          "sizeref": 4.9655555555555555,
          "symbol": "circle"
         },
         "mode": "markers",
         "name": "Zone K",
         "orientation": "v",
         "showlegend": true,
         "type": "scatter",
         "x": [
          "Zone K"
         ],
         "xaxis": "x",
         "y": [
          197
         ],
         "yaxis": "y"
        },
        {
         "hovertemplate": "Start zone=%{x}<br>Converted to Trip=%{y}<br>Hour of day=%{marker.size}<extra></extra>",
         "legendgroup": "Zone S",
         "marker": {
          "color": "#FF6692",
          "size": [
           2866
          ],
          "sizemode": "area",
          "sizeref": 4.9655555555555555,
          "symbol": "circle"
         },
         "mode": "markers",
         "name": "Zone S",
         "orientation": "v",
         "showlegend": true,
         "type": "scatter",
         "x": [
          "Zone S"
         ],
         "xaxis": "x",
         "y": [
          160
         ],
         "yaxis": "y"
        },
        {
         "hovertemplate": "Start zone=%{x}<br>Converted to Trip=%{y}<br>Hour of day=%{marker.size}<extra></extra>",
         "legendgroup": "Zone H",
         "marker": {
          "color": "#B6E880",
          "size": [
           4314
          ],
          "sizemode": "area",
          "sizeref": 4.9655555555555555,
          "symbol": "circle"
         },
         "mode": "markers",
         "name": "Zone H",
         "orientation": "v",
         "showlegend": true,
         "type": "scatter",
         "x": [
          "Zone H"
         ],
         "xaxis": "x",
         "y": [
          150
         ],
         "yaxis": "y"
        },
        {
         "hovertemplate": "Start zone=%{x}<br>Converted to Trip=%{y}<br>Hour of day=%{marker.size}<extra></extra>",
         "legendgroup": "Zone E",
         "marker": {
          "color": "#FF97FF",
          "size": [
           3599
          ],
          "sizemode": "area",
          "sizeref": 4.9655555555555555,
          "symbol": "circle"
         },
         "mode": "markers",
         "name": "Zone E",
         "orientation": "v",
         "showlegend": true,
         "type": "scatter",
         "x": [
          "Zone E"
         ],
         "xaxis": "x",
         "y": [
          122
         ],
         "yaxis": "y"
        },
        {
         "hovertemplate": "Start zone=%{x}<br>Converted to Trip=%{y}<br>Hour of day=%{marker.size}<extra></extra>",
         "legendgroup": "Zone F",
         "marker": {
          "color": "#FECB52",
          "size": [
           3301
          ],
          "sizemode": "area",
          "sizeref": 4.9655555555555555,
          "symbol": "circle"
         },
         "mode": "markers",
         "name": "Zone F",
         "orientation": "v",
         "showlegend": true,
         "type": "scatter",
         "x": [
          "Zone F"
         ],
         "xaxis": "x",
         "y": [
          108
         ],
         "yaxis": "y"
        },
        {
         "hovertemplate": "Start zone=%{x}<br>Converted to Trip=%{y}<br>Hour of day=%{marker.size}<extra></extra>",
         "legendgroup": "Zone AA",
         "marker": {
          "color": "#636efa",
          "size": [
           1453
          ],
          "sizemode": "area",
          "sizeref": 4.9655555555555555,
          "symbol": "circle"
         },
         "mode": "markers",
         "name": "Zone AA",
         "orientation": "v",
         "showlegend": true,
         "type": "scatter",
         "x": [
          "Zone AA"
         ],
         "xaxis": "x",
         "y": [
          63
         ],
         "yaxis": "y"
        },
        {
         "hovertemplate": "Start zone=%{x}<br>Converted to Trip=%{y}<br>Hour of day=%{marker.size}<extra></extra>",
         "legendgroup": "Zone X",
         "marker": {
          "color": "#EF553B",
          "size": [
           1510
          ],
          "sizemode": "area",
          "sizeref": 4.9655555555555555,
          "symbol": "circle"
         },
         "mode": "markers",
         "name": "Zone X",
         "orientation": "v",
         "showlegend": true,
         "type": "scatter",
         "x": [
          "Zone X"
         ],
         "xaxis": "x",
         "y": [
          62
         ],
         "yaxis": "y"
        },
        {
         "hovertemplate": "Start zone=%{x}<br>Converted to Trip=%{y}<br>Hour of day=%{marker.size}<extra></extra>",
         "legendgroup": "Zone Q",
         "marker": {
          "color": "#00cc96",
          "size": [
           1446
          ],
          "sizemode": "area",
          "sizeref": 4.9655555555555555,
          "symbol": "circle"
         },
         "mode": "markers",
         "name": "Zone Q",
         "orientation": "v",
         "showlegend": true,
         "type": "scatter",
         "x": [
          "Zone Q"
         ],
         "xaxis": "x",
         "y": [
          54
         ],
         "yaxis": "y"
        },
        {
         "hovertemplate": "Start zone=%{x}<br>Converted to Trip=%{y}<br>Hour of day=%{marker.size}<extra></extra>",
         "legendgroup": "Zone Z",
         "marker": {
          "color": "#ab63fa",
          "size": [
           1495
          ],
          "sizemode": "area",
          "sizeref": 4.9655555555555555,
          "symbol": "circle"
         },
         "mode": "markers",
         "name": "Zone Z",
         "orientation": "v",
         "showlegend": true,
         "type": "scatter",
         "x": [
          "Zone Z"
         ],
         "xaxis": "x",
         "y": [
          53
         ],
         "yaxis": "y"
        },
        {
         "hovertemplate": "Start zone=%{x}<br>Converted to Trip=%{y}<br>Hour of day=%{marker.size}<extra></extra>",
         "legendgroup": "Zone C",
         "marker": {
          "color": "#FFA15A",
          "size": [
           1629
          ],
          "sizemode": "area",
          "sizeref": 4.9655555555555555,
          "symbol": "circle"
         },
         "mode": "markers",
         "name": "Zone C",
         "orientation": "v",
         "showlegend": true,
         "type": "scatter",
         "x": [
          "Zone C"
         ],
         "xaxis": "x",
         "y": [
          53
         ],
         "yaxis": "y"
        },
        {
         "hovertemplate": "Start zone=%{x}<br>Converted to Trip=%{y}<br>Hour of day=%{marker.size}<extra></extra>",
         "legendgroup": "Zone R",
         "marker": {
          "color": "#19d3f3",
          "size": [
           1147
          ],
          "sizemode": "area",
          "sizeref": 4.9655555555555555,
          "symbol": "circle"
         },
         "mode": "markers",
         "name": "Zone R",
         "orientation": "v",
         "showlegend": true,
         "type": "scatter",
         "x": [
          "Zone R"
         ],
         "xaxis": "x",
         "y": [
          47
         ],
         "yaxis": "y"
        },
        {
         "hovertemplate": "Start zone=%{x}<br>Converted to Trip=%{y}<br>Hour of day=%{marker.size}<extra></extra>",
         "legendgroup": "Zone Y",
         "marker": {
          "color": "#FF6692",
          "size": [
           1008
          ],
          "sizemode": "area",
          "sizeref": 4.9655555555555555,
          "symbol": "circle"
         },
         "mode": "markers",
         "name": "Zone Y",
         "orientation": "v",
         "showlegend": true,
         "type": "scatter",
         "x": [
          "Zone Y"
         ],
         "xaxis": "x",
         "y": [
          31
         ],
         "yaxis": "y"
        },
        {
         "hovertemplate": "Start zone=%{x}<br>Converted to Trip=%{y}<br>Hour of day=%{marker.size}<extra></extra>",
         "legendgroup": "Zone T",
         "marker": {
          "color": "#B6E880",
          "size": [
           916
          ],
          "sizemode": "area",
          "sizeref": 4.9655555555555555,
          "symbol": "circle"
         },
         "mode": "markers",
         "name": "Zone T",
         "orientation": "v",
         "showlegend": true,
         "type": "scatter",
         "x": [
          "Zone T"
         ],
         "xaxis": "x",
         "y": [
          30
         ],
         "yaxis": "y"
        },
        {
         "hovertemplate": "Start zone=%{x}<br>Converted to Trip=%{y}<br>Hour of day=%{marker.size}<extra></extra>",
         "legendgroup": "Zone M",
         "marker": {
          "color": "#FF97FF",
          "size": [
           1329
          ],
          "sizemode": "area",
          "sizeref": 4.9655555555555555,
          "symbol": "circle"
         },
         "mode": "markers",
         "name": "Zone M",
         "orientation": "v",
         "showlegend": true,
         "type": "scatter",
         "x": [
          "Zone M"
         ],
         "xaxis": "x",
         "y": [
          28
         ],
         "yaxis": "y"
        },
        {
         "hovertemplate": "Start zone=%{x}<br>Converted to Trip=%{y}<br>Hour of day=%{marker.size}<extra></extra>",
         "legendgroup": "Zone N",
         "marker": {
          "color": "#FECB52",
          "size": [
           801
          ],
          "sizemode": "area",
          "sizeref": 4.9655555555555555,
          "symbol": "circle"
         },
         "mode": "markers",
         "name": "Zone N",
         "orientation": "v",
         "showlegend": true,
         "type": "scatter",
         "x": [
          "Zone N"
         ],
         "xaxis": "x",
         "y": [
          28
         ],
         "yaxis": "y"
        },
        {
         "hovertemplate": "Start zone=%{x}<br>Converted to Trip=%{y}<br>Hour of day=%{marker.size}<extra></extra>",
         "legendgroup": "Zone AE",
         "marker": {
          "color": "#636efa",
          "size": [
           777
          ],
          "sizemode": "area",
          "sizeref": 4.9655555555555555,
          "symbol": "circle"
         },
         "mode": "markers",
         "name": "Zone AE",
         "orientation": "v",
         "showlegend": true,
         "type": "scatter",
         "x": [
          "Zone AE"
         ],
         "xaxis": "x",
         "y": [
          25
         ],
         "yaxis": "y"
        },
        {
         "hovertemplate": "Start zone=%{x}<br>Converted to Trip=%{y}<br>Hour of day=%{marker.size}<extra></extra>",
         "legendgroup": "Zone AH",
         "marker": {
          "color": "#EF553B",
          "size": [
           1037
          ],
          "sizemode": "area",
          "sizeref": 4.9655555555555555,
          "symbol": "circle"
         },
         "mode": "markers",
         "name": "Zone AH",
         "orientation": "v",
         "showlegend": true,
         "type": "scatter",
         "x": [
          "Zone AH"
         ],
         "xaxis": "x",
         "y": [
          25
         ],
         "yaxis": "y"
        },
        {
         "hovertemplate": "Start zone=%{x}<br>Converted to Trip=%{y}<br>Hour of day=%{marker.size}<extra></extra>",
         "legendgroup": "Zone AF",
         "marker": {
          "color": "#00cc96",
          "size": [
           856
          ],
          "sizemode": "area",
          "sizeref": 4.9655555555555555,
          "symbol": "circle"
         },
         "mode": "markers",
         "name": "Zone AF",
         "orientation": "v",
         "showlegend": true,
         "type": "scatter",
         "x": [
          "Zone AF"
         ],
         "xaxis": "x",
         "y": [
          22
         ],
         "yaxis": "y"
        },
        {
         "hovertemplate": "Start zone=%{x}<br>Converted to Trip=%{y}<br>Hour of day=%{marker.size}<extra></extra>",
         "legendgroup": "Zone AC",
         "marker": {
          "color": "#ab63fa",
          "size": [
           708
          ],
          "sizemode": "area",
          "sizeref": 4.9655555555555555,
          "symbol": "circle"
         },
         "mode": "markers",
         "name": "Zone AC",
         "orientation": "v",
         "showlegend": true,
         "type": "scatter",
         "x": [
          "Zone AC"
         ],
         "xaxis": "x",
         "y": [
          21
         ],
         "yaxis": "y"
        },
        {
         "hovertemplate": "Start zone=%{x}<br>Converted to Trip=%{y}<br>Hour of day=%{marker.size}<extra></extra>",
         "legendgroup": "Zone AD",
         "marker": {
          "color": "#FFA15A",
          "size": [
           619
          ],
          "sizemode": "area",
          "sizeref": 4.9655555555555555,
          "symbol": "circle"
         },
         "mode": "markers",
         "name": "Zone AD",
         "orientation": "v",
         "showlegend": true,
         "type": "scatter",
         "x": [
          "Zone AD"
         ],
         "xaxis": "x",
         "y": [
          19
         ],
         "yaxis": "y"
        },
        {
         "hovertemplate": "Start zone=%{x}<br>Converted to Trip=%{y}<br>Hour of day=%{marker.size}<extra></extra>",
         "legendgroup": "Zone W",
         "marker": {
          "color": "#19d3f3",
          "size": [
           631
          ],
          "sizemode": "area",
          "sizeref": 4.9655555555555555,
          "symbol": "circle"
         },
         "mode": "markers",
         "name": "Zone W",
         "orientation": "v",
         "showlegend": true,
         "type": "scatter",
         "x": [
          "Zone W"
         ],
         "xaxis": "x",
         "y": [
          18
         ],
         "yaxis": "y"
        },
        {
         "hovertemplate": "Start zone=%{x}<br>Converted to Trip=%{y}<br>Hour of day=%{marker.size}<extra></extra>",
         "legendgroup": "Zone AB",
         "marker": {
          "color": "#FF6692",
          "size": [
           952
          ],
          "sizemode": "area",
          "sizeref": 4.9655555555555555,
          "symbol": "circle"
         },
         "mode": "markers",
         "name": "Zone AB",
         "orientation": "v",
         "showlegend": true,
         "type": "scatter",
         "x": [
          "Zone AB"
         ],
         "xaxis": "x",
         "y": [
          18
         ],
         "yaxis": "y"
        },
        {
         "hovertemplate": "Start zone=%{x}<br>Converted to Trip=%{y}<br>Hour of day=%{marker.size}<extra></extra>",
         "legendgroup": "Zone I",
         "marker": {
          "color": "#B6E880",
          "size": [
           839
          ],
          "sizemode": "area",
          "sizeref": 4.9655555555555555,
          "symbol": "circle"
         },
         "mode": "markers",
         "name": "Zone I",
         "orientation": "v",
         "showlegend": true,
         "type": "scatter",
         "x": [
          "Zone I"
         ],
         "xaxis": "x",
         "y": [
          17
         ],
         "yaxis": "y"
        },
        {
         "hovertemplate": "Start zone=%{x}<br>Converted to Trip=%{y}<br>Hour of day=%{marker.size}<extra></extra>",
         "legendgroup": "Zone L",
         "marker": {
          "color": "#FF97FF",
          "size": [
           359
          ],
          "sizemode": "area",
          "sizeref": 4.9655555555555555,
          "symbol": "circle"
         },
         "mode": "markers",
         "name": "Zone L",
         "orientation": "v",
         "showlegend": true,
         "type": "scatter",
         "x": [
          "Zone L"
         ],
         "xaxis": "x",
         "y": [
          16
         ],
         "yaxis": "y"
        },
        {
         "hovertemplate": "Start zone=%{x}<br>Converted to Trip=%{y}<br>Hour of day=%{marker.size}<extra></extra>",
         "legendgroup": "Zone O",
         "marker": {
          "color": "#FECB52",
          "size": [
           592
          ],
          "sizemode": "area",
          "sizeref": 4.9655555555555555,
          "symbol": "circle"
         },
         "mode": "markers",
         "name": "Zone O",
         "orientation": "v",
         "showlegend": true,
         "type": "scatter",
         "x": [
          "Zone O"
         ],
         "xaxis": "x",
         "y": [
          16
         ],
         "yaxis": "y"
        },
        {
         "hovertemplate": "Start zone=%{x}<br>Converted to Trip=%{y}<br>Hour of day=%{marker.size}<extra></extra>",
         "legendgroup": "Zone AG",
         "marker": {
          "color": "#636efa",
          "size": [
           693
          ],
          "sizemode": "area",
          "sizeref": 4.9655555555555555,
          "symbol": "circle"
         },
         "mode": "markers",
         "name": "Zone AG",
         "orientation": "v",
         "showlegend": true,
         "type": "scatter",
         "x": [
          "Zone AG"
         ],
         "xaxis": "x",
         "y": [
          16
         ],
         "yaxis": "y"
        },
        {
         "hovertemplate": "Start zone=%{x}<br>Converted to Trip=%{y}<br>Hour of day=%{marker.size}<extra></extra>",
         "legendgroup": "Zone AI",
         "marker": {
          "color": "#EF553B",
          "size": [
           412
          ],
          "sizemode": "area",
          "sizeref": 4.9655555555555555,
          "symbol": "circle"
         },
         "mode": "markers",
         "name": "Zone AI",
         "orientation": "v",
         "showlegend": true,
         "type": "scatter",
         "x": [
          "Zone AI"
         ],
         "xaxis": "x",
         "y": [
          13
         ],
         "yaxis": "y"
        },
        {
         "hovertemplate": "Start zone=%{x}<br>Converted to Trip=%{y}<br>Hour of day=%{marker.size}<extra></extra>",
         "legendgroup": "Zone J",
         "marker": {
          "color": "#00cc96",
          "size": [
           384
          ],
          "sizemode": "area",
          "sizeref": 4.9655555555555555,
          "symbol": "circle"
         },
         "mode": "markers",
         "name": "Zone J",
         "orientation": "v",
         "showlegend": true,
         "type": "scatter",
         "x": [
          "Zone J"
         ],
         "xaxis": "x",
         "y": [
          9
         ],
         "yaxis": "y"
        },
        {
         "hovertemplate": "Start zone=%{x}<br>Converted to Trip=%{y}<br>Hour of day=%{marker.size}<extra></extra>",
         "legendgroup": "Zone U",
         "marker": {
          "color": "#ab63fa",
          "size": [
           208
          ],
          "sizemode": "area",
          "sizeref": 4.9655555555555555,
          "symbol": "circle"
         },
         "mode": "markers",
         "name": "Zone U",
         "orientation": "v",
         "showlegend": true,
         "type": "scatter",
         "x": [
          "Zone U"
         ],
         "xaxis": "x",
         "y": [
          8
         ],
         "yaxis": "y"
        },
        {
         "hovertemplate": "Start zone=%{x}<br>Converted to Trip=%{y}<br>Hour of day=%{marker.size}<extra></extra>",
         "legendgroup": "Zone V",
         "marker": {
          "color": "#FFA15A",
          "size": [
           141
          ],
          "sizemode": "area",
          "sizeref": 4.9655555555555555,
          "symbol": "circle"
         },
         "mode": "markers",
         "name": "Zone V",
         "orientation": "v",
         "showlegend": true,
         "type": "scatter",
         "x": [
          "Zone V"
         ],
         "xaxis": "x",
         "y": [
          3
         ],
         "yaxis": "y"
        }
       ],
       "layout": {
        "legend": {
         "itemsizing": "constant",
         "title": {
          "text": "Start zone"
         },
         "tracegroupgap": 0
        },
        "margin": {
         "t": 60
        },
        "template": {
         "data": {
          "bar": [
           {
            "error_x": {
             "color": "#2a3f5f"
            },
            "error_y": {
             "color": "#2a3f5f"
            },
            "marker": {
             "line": {
              "color": "#E5ECF6",
              "width": 0.5
             }
            },
            "type": "bar"
           }
          ],
          "barpolar": [
           {
            "marker": {
             "line": {
              "color": "#E5ECF6",
              "width": 0.5
             }
            },
            "type": "barpolar"
           }
          ],
          "carpet": [
           {
            "aaxis": {
             "endlinecolor": "#2a3f5f",
             "gridcolor": "white",
             "linecolor": "white",
             "minorgridcolor": "white",
             "startlinecolor": "#2a3f5f"
            },
            "baxis": {
             "endlinecolor": "#2a3f5f",
             "gridcolor": "white",
             "linecolor": "white",
             "minorgridcolor": "white",
             "startlinecolor": "#2a3f5f"
            },
            "type": "carpet"
           }
          ],
          "choropleth": [
           {
            "colorbar": {
             "outlinewidth": 0,
             "ticks": ""
            },
            "type": "choropleth"
           }
          ],
          "contour": [
           {
            "colorbar": {
             "outlinewidth": 0,
             "ticks": ""
            },
            "colorscale": [
             [
              0,
              "#0d0887"
             ],
             [
              0.1111111111111111,
              "#46039f"
             ],
             [
              0.2222222222222222,
              "#7201a8"
             ],
             [
              0.3333333333333333,
              "#9c179e"
             ],
             [
              0.4444444444444444,
              "#bd3786"
             ],
             [
              0.5555555555555556,
              "#d8576b"
             ],
             [
              0.6666666666666666,
              "#ed7953"
             ],
             [
              0.7777777777777778,
              "#fb9f3a"
             ],
             [
              0.8888888888888888,
              "#fdca26"
             ],
             [
              1,
              "#f0f921"
             ]
            ],
            "type": "contour"
           }
          ],
          "contourcarpet": [
           {
            "colorbar": {
             "outlinewidth": 0,
             "ticks": ""
            },
            "type": "contourcarpet"
           }
          ],
          "heatmap": [
           {
            "colorbar": {
             "outlinewidth": 0,
             "ticks": ""
            },
            "colorscale": [
             [
              0,
              "#0d0887"
             ],
             [
              0.1111111111111111,
              "#46039f"
             ],
             [
              0.2222222222222222,
              "#7201a8"
             ],
             [
              0.3333333333333333,
              "#9c179e"
             ],
             [
              0.4444444444444444,
              "#bd3786"
             ],
             [
              0.5555555555555556,
              "#d8576b"
             ],
             [
              0.6666666666666666,
              "#ed7953"
             ],
             [
              0.7777777777777778,
              "#fb9f3a"
             ],
             [
              0.8888888888888888,
              "#fdca26"
             ],
             [
              1,
              "#f0f921"
             ]
            ],
            "type": "heatmap"
           }
          ],
          "heatmapgl": [
           {
            "colorbar": {
             "outlinewidth": 0,
             "ticks": ""
            },
            "colorscale": [
             [
              0,
              "#0d0887"
             ],
             [
              0.1111111111111111,
              "#46039f"
             ],
             [
              0.2222222222222222,
              "#7201a8"
             ],
             [
              0.3333333333333333,
              "#9c179e"
             ],
             [
              0.4444444444444444,
              "#bd3786"
             ],
             [
              0.5555555555555556,
              "#d8576b"
             ],
             [
              0.6666666666666666,
              "#ed7953"
             ],
             [
              0.7777777777777778,
              "#fb9f3a"
             ],
             [
              0.8888888888888888,
              "#fdca26"
             ],
             [
              1,
              "#f0f921"
             ]
            ],
            "type": "heatmapgl"
           }
          ],
          "histogram": [
           {
            "marker": {
             "colorbar": {
              "outlinewidth": 0,
              "ticks": ""
             }
            },
            "type": "histogram"
           }
          ],
          "histogram2d": [
           {
            "colorbar": {
             "outlinewidth": 0,
             "ticks": ""
            },
            "colorscale": [
             [
              0,
              "#0d0887"
             ],
             [
              0.1111111111111111,
              "#46039f"
             ],
             [
              0.2222222222222222,
              "#7201a8"
             ],
             [
              0.3333333333333333,
              "#9c179e"
             ],
             [
              0.4444444444444444,
              "#bd3786"
             ],
             [
              0.5555555555555556,
              "#d8576b"
             ],
             [
              0.6666666666666666,
              "#ed7953"
             ],
             [
              0.7777777777777778,
              "#fb9f3a"
             ],
             [
              0.8888888888888888,
              "#fdca26"
             ],
             [
              1,
              "#f0f921"
             ]
            ],
            "type": "histogram2d"
           }
          ],
          "histogram2dcontour": [
           {
            "colorbar": {
             "outlinewidth": 0,
             "ticks": ""
            },
            "colorscale": [
             [
              0,
              "#0d0887"
             ],
             [
              0.1111111111111111,
              "#46039f"
             ],
             [
              0.2222222222222222,
              "#7201a8"
             ],
             [
              0.3333333333333333,
              "#9c179e"
             ],
             [
              0.4444444444444444,
              "#bd3786"
             ],
             [
              0.5555555555555556,
              "#d8576b"
             ],
             [
              0.6666666666666666,
              "#ed7953"
             ],
             [
              0.7777777777777778,
              "#fb9f3a"
             ],
             [
              0.8888888888888888,
              "#fdca26"
             ],
             [
              1,
              "#f0f921"
             ]
            ],
            "type": "histogram2dcontour"
           }
          ],
          "mesh3d": [
           {
            "colorbar": {
             "outlinewidth": 0,
             "ticks": ""
            },
            "type": "mesh3d"
           }
          ],
          "parcoords": [
           {
            "line": {
             "colorbar": {
              "outlinewidth": 0,
              "ticks": ""
             }
            },
            "type": "parcoords"
           }
          ],
          "pie": [
           {
            "automargin": true,
            "type": "pie"
           }
          ],
          "scatter": [
           {
            "marker": {
             "colorbar": {
              "outlinewidth": 0,
              "ticks": ""
             }
            },
            "type": "scatter"
           }
          ],
          "scatter3d": [
           {
            "line": {
             "colorbar": {
              "outlinewidth": 0,
              "ticks": ""
             }
            },
            "marker": {
             "colorbar": {
              "outlinewidth": 0,
              "ticks": ""
             }
            },
            "type": "scatter3d"
           }
          ],
          "scattercarpet": [
           {
            "marker": {
             "colorbar": {
              "outlinewidth": 0,
              "ticks": ""
             }
            },
            "type": "scattercarpet"
           }
          ],
          "scattergeo": [
           {
            "marker": {
             "colorbar": {
              "outlinewidth": 0,
              "ticks": ""
             }
            },
            "type": "scattergeo"
           }
          ],
          "scattergl": [
           {
            "marker": {
             "colorbar": {
              "outlinewidth": 0,
              "ticks": ""
             }
            },
            "type": "scattergl"
           }
          ],
          "scattermapbox": [
           {
            "marker": {
             "colorbar": {
              "outlinewidth": 0,
              "ticks": ""
             }
            },
            "type": "scattermapbox"
           }
          ],
          "scatterpolar": [
           {
            "marker": {
             "colorbar": {
              "outlinewidth": 0,
              "ticks": ""
             }
            },
            "type": "scatterpolar"
           }
          ],
          "scatterpolargl": [
           {
            "marker": {
             "colorbar": {
              "outlinewidth": 0,
              "ticks": ""
             }
            },
            "type": "scatterpolargl"
           }
          ],
          "scatterternary": [
           {
            "marker": {
             "colorbar": {
              "outlinewidth": 0,
              "ticks": ""
             }
            },
            "type": "scatterternary"
           }
          ],
          "surface": [
           {
            "colorbar": {
             "outlinewidth": 0,
             "ticks": ""
            },
            "colorscale": [
             [
              0,
              "#0d0887"
             ],
             [
              0.1111111111111111,
              "#46039f"
             ],
             [
              0.2222222222222222,
              "#7201a8"
             ],
             [
              0.3333333333333333,
              "#9c179e"
             ],
             [
              0.4444444444444444,
              "#bd3786"
             ],
             [
              0.5555555555555556,
              "#d8576b"
             ],
             [
              0.6666666666666666,
              "#ed7953"
             ],
             [
              0.7777777777777778,
              "#fb9f3a"
             ],
             [
              0.8888888888888888,
              "#fdca26"
             ],
             [
              1,
              "#f0f921"
             ]
            ],
            "type": "surface"
           }
          ],
          "table": [
           {
            "cells": {
             "fill": {
              "color": "#EBF0F8"
             },
             "line": {
              "color": "white"
             }
            },
            "header": {
             "fill": {
              "color": "#C8D4E3"
             },
             "line": {
              "color": "white"
             }
            },
            "type": "table"
           }
          ]
         },
         "layout": {
          "annotationdefaults": {
           "arrowcolor": "#2a3f5f",
           "arrowhead": 0,
           "arrowwidth": 1
          },
          "autotypenumbers": "strict",
          "coloraxis": {
           "colorbar": {
            "outlinewidth": 0,
            "ticks": ""
           }
          },
          "colorscale": {
           "diverging": [
            [
             0,
             "#8e0152"
            ],
            [
             0.1,
             "#c51b7d"
            ],
            [
             0.2,
             "#de77ae"
            ],
            [
             0.3,
             "#f1b6da"
            ],
            [
             0.4,
             "#fde0ef"
            ],
            [
             0.5,
             "#f7f7f7"
            ],
            [
             0.6,
             "#e6f5d0"
            ],
            [
             0.7,
             "#b8e186"
            ],
            [
             0.8,
             "#7fbc41"
            ],
            [
             0.9,
             "#4d9221"
            ],
            [
             1,
             "#276419"
            ]
           ],
           "sequential": [
            [
             0,
             "#0d0887"
            ],
            [
             0.1111111111111111,
             "#46039f"
            ],
            [
             0.2222222222222222,
             "#7201a8"
            ],
            [
             0.3333333333333333,
             "#9c179e"
            ],
            [
             0.4444444444444444,
             "#bd3786"
            ],
            [
             0.5555555555555556,
             "#d8576b"
            ],
            [
             0.6666666666666666,
             "#ed7953"
            ],
            [
             0.7777777777777778,
             "#fb9f3a"
            ],
            [
             0.8888888888888888,
             "#fdca26"
            ],
            [
             1,
             "#f0f921"
            ]
           ],
           "sequentialminus": [
            [
             0,
             "#0d0887"
            ],
            [
             0.1111111111111111,
             "#46039f"
            ],
            [
             0.2222222222222222,
             "#7201a8"
            ],
            [
             0.3333333333333333,
             "#9c179e"
            ],
            [
             0.4444444444444444,
             "#bd3786"
            ],
            [
             0.5555555555555556,
             "#d8576b"
            ],
            [
             0.6666666666666666,
             "#ed7953"
            ],
            [
             0.7777777777777778,
             "#fb9f3a"
            ],
            [
             0.8888888888888888,
             "#fdca26"
            ],
            [
             1,
             "#f0f921"
            ]
           ]
          },
          "colorway": [
           "#636efa",
           "#EF553B",
           "#00cc96",
           "#ab63fa",
           "#FFA15A",
           "#19d3f3",
           "#FF6692",
           "#B6E880",
           "#FF97FF",
           "#FECB52"
          ],
          "font": {
           "color": "#2a3f5f"
          },
          "geo": {
           "bgcolor": "white",
           "lakecolor": "white",
           "landcolor": "#E5ECF6",
           "showlakes": true,
           "showland": true,
           "subunitcolor": "white"
          },
          "hoverlabel": {
           "align": "left"
          },
          "hovermode": "closest",
          "mapbox": {
           "style": "light"
          },
          "paper_bgcolor": "white",
          "plot_bgcolor": "#E5ECF6",
          "polar": {
           "angularaxis": {
            "gridcolor": "white",
            "linecolor": "white",
            "ticks": ""
           },
           "bgcolor": "#E5ECF6",
           "radialaxis": {
            "gridcolor": "white",
            "linecolor": "white",
            "ticks": ""
           }
          },
          "scene": {
           "xaxis": {
            "backgroundcolor": "#E5ECF6",
            "gridcolor": "white",
            "gridwidth": 2,
            "linecolor": "white",
            "showbackground": true,
            "ticks": "",
            "zerolinecolor": "white"
           },
           "yaxis": {
            "backgroundcolor": "#E5ECF6",
            "gridcolor": "white",
            "gridwidth": 2,
            "linecolor": "white",
            "showbackground": true,
            "ticks": "",
            "zerolinecolor": "white"
           },
           "zaxis": {
            "backgroundcolor": "#E5ECF6",
            "gridcolor": "white",
            "gridwidth": 2,
            "linecolor": "white",
            "showbackground": true,
            "ticks": "",
            "zerolinecolor": "white"
           }
          },
          "shapedefaults": {
           "line": {
            "color": "#2a3f5f"
           }
          },
          "ternary": {
           "aaxis": {
            "gridcolor": "white",
            "linecolor": "white",
            "ticks": ""
           },
           "baxis": {
            "gridcolor": "white",
            "linecolor": "white",
            "ticks": ""
           },
           "bgcolor": "#E5ECF6",
           "caxis": {
            "gridcolor": "white",
            "linecolor": "white",
            "ticks": ""
           }
          },
          "title": {
           "x": 0.05
          },
          "xaxis": {
           "automargin": true,
           "gridcolor": "white",
           "linecolor": "white",
           "ticks": "",
           "title": {
            "standoff": 15
           },
           "zerolinecolor": "white",
           "zerolinewidth": 2
          },
          "yaxis": {
           "automargin": true,
           "gridcolor": "white",
           "linecolor": "white",
           "ticks": "",
           "title": {
            "standoff": 15
           },
           "zerolinecolor": "white",
           "zerolinewidth": 2
          }
         }
        },
        "xaxis": {
         "anchor": "y",
         "categoryarray": [
          "Zone G",
          "Zone B",
          "Zone D",
          "Zone P",
          "Zone A",
          "Zone K",
          "Zone S",
          "Zone H",
          "Zone E",
          "Zone F",
          "Zone AA",
          "Zone X",
          "Zone Q",
          "Zone Z",
          "Zone C",
          "Zone R",
          "Zone Y",
          "Zone T",
          "Zone M",
          "Zone N",
          "Zone AE",
          "Zone AH",
          "Zone AF",
          "Zone AC",
          "Zone AD",
          "Zone W",
          "Zone AB",
          "Zone I",
          "Zone L",
          "Zone O",
          "Zone AG",
          "Zone AI",
          "Zone J",
          "Zone U",
          "Zone V"
         ],
         "categoryorder": "array",
         "domain": [
          0,
          1
         ],
         "title": {
          "text": "Start zone"
         }
        },
        "yaxis": {
         "anchor": "x",
         "domain": [
          0,
          1
         ],
         "title": {
          "text": "Converted to Trip"
         }
        }
       }
      },
      "text/html": [
       "<div>                            <div id=\"936aa94a-ebfe-4883-b0aa-8e1b165204fc\" class=\"plotly-graph-div\" style=\"height:525px; width:100%;\"></div>            <script type=\"text/javascript\">                require([\"plotly\"], function(Plotly) {                    window.PLOTLYENV=window.PLOTLYENV || {};                                    if (document.getElementById(\"936aa94a-ebfe-4883-b0aa-8e1b165204fc\")) {                    Plotly.newPlot(                        \"936aa94a-ebfe-4883-b0aa-8e1b165204fc\",                        [{\"hovertemplate\": \"Start zone=%{x}<br>Converted to Trip=%{y}<br>Hour of day=%{marker.size}<extra></extra>\", \"legendgroup\": \"Zone G\", \"marker\": {\"color\": \"#636efa\", \"size\": [17876.0], \"sizemode\": \"area\", \"sizeref\": 4.9655555555555555, \"symbol\": \"circle\"}, \"mode\": \"markers\", \"name\": \"Zone G\", \"orientation\": \"v\", \"showlegend\": true, \"type\": \"scatter\", \"x\": [\"Zone G\"], \"xaxis\": \"x\", \"y\": [773.0], \"yaxis\": \"y\"}, {\"hovertemplate\": \"Start zone=%{x}<br>Converted to Trip=%{y}<br>Hour of day=%{marker.size}<extra></extra>\", \"legendgroup\": \"Zone B\", \"marker\": {\"color\": \"#EF553B\", \"size\": [10319.0], \"sizemode\": \"area\", \"sizeref\": 4.9655555555555555, \"symbol\": \"circle\"}, \"mode\": \"markers\", \"name\": \"Zone B\", \"orientation\": \"v\", \"showlegend\": true, \"type\": \"scatter\", \"x\": [\"Zone B\"], \"xaxis\": \"x\", \"y\": [429.0], \"yaxis\": \"y\"}, {\"hovertemplate\": \"Start zone=%{x}<br>Converted to Trip=%{y}<br>Hour of day=%{marker.size}<extra></extra>\", \"legendgroup\": \"Zone D\", \"marker\": {\"color\": \"#00cc96\", \"size\": [8199.0], \"sizemode\": \"area\", \"sizeref\": 4.9655555555555555, \"symbol\": \"circle\"}, \"mode\": \"markers\", \"name\": \"Zone D\", \"orientation\": \"v\", \"showlegend\": true, \"type\": \"scatter\", \"x\": [\"Zone D\"], \"xaxis\": \"x\", \"y\": [337.0], \"yaxis\": \"y\"}, {\"hovertemplate\": \"Start zone=%{x}<br>Converted to Trip=%{y}<br>Hour of day=%{marker.size}<extra></extra>\", \"legendgroup\": \"Zone P\", \"marker\": {\"color\": \"#ab63fa\", \"size\": [4585.0], \"sizemode\": \"area\", \"sizeref\": 4.9655555555555555, \"symbol\": \"circle\"}, \"mode\": \"markers\", \"name\": \"Zone P\", \"orientation\": \"v\", \"showlegend\": true, \"type\": \"scatter\", \"x\": [\"Zone P\"], \"xaxis\": \"x\", \"y\": [247.0], \"yaxis\": \"y\"}, {\"hovertemplate\": \"Start zone=%{x}<br>Converted to Trip=%{y}<br>Hour of day=%{marker.size}<extra></extra>\", \"legendgroup\": \"Zone A\", \"marker\": {\"color\": \"#FFA15A\", \"size\": [4677.0], \"sizemode\": \"area\", \"sizeref\": 4.9655555555555555, \"symbol\": \"circle\"}, \"mode\": \"markers\", \"name\": \"Zone A\", \"orientation\": \"v\", \"showlegend\": true, \"type\": \"scatter\", \"x\": [\"Zone A\"], \"xaxis\": \"x\", \"y\": [235.0], \"yaxis\": \"y\"}, {\"hovertemplate\": \"Start zone=%{x}<br>Converted to Trip=%{y}<br>Hour of day=%{marker.size}<extra></extra>\", \"legendgroup\": \"Zone K\", \"marker\": {\"color\": \"#19d3f3\", \"size\": [4990.0], \"sizemode\": \"area\", \"sizeref\": 4.9655555555555555, \"symbol\": \"circle\"}, \"mode\": \"markers\", \"name\": \"Zone K\", \"orientation\": \"v\", \"showlegend\": true, \"type\": \"scatter\", \"x\": [\"Zone K\"], \"xaxis\": \"x\", \"y\": [197.0], \"yaxis\": \"y\"}, {\"hovertemplate\": \"Start zone=%{x}<br>Converted to Trip=%{y}<br>Hour of day=%{marker.size}<extra></extra>\", \"legendgroup\": \"Zone S\", \"marker\": {\"color\": \"#FF6692\", \"size\": [2866.0], \"sizemode\": \"area\", \"sizeref\": 4.9655555555555555, \"symbol\": \"circle\"}, \"mode\": \"markers\", \"name\": \"Zone S\", \"orientation\": \"v\", \"showlegend\": true, \"type\": \"scatter\", \"x\": [\"Zone S\"], \"xaxis\": \"x\", \"y\": [160.0], \"yaxis\": \"y\"}, {\"hovertemplate\": \"Start zone=%{x}<br>Converted to Trip=%{y}<br>Hour of day=%{marker.size}<extra></extra>\", \"legendgroup\": \"Zone H\", \"marker\": {\"color\": \"#B6E880\", \"size\": [4314.0], \"sizemode\": \"area\", \"sizeref\": 4.9655555555555555, \"symbol\": \"circle\"}, \"mode\": \"markers\", \"name\": \"Zone H\", \"orientation\": \"v\", \"showlegend\": true, \"type\": \"scatter\", \"x\": [\"Zone H\"], \"xaxis\": \"x\", \"y\": [150.0], \"yaxis\": \"y\"}, {\"hovertemplate\": \"Start zone=%{x}<br>Converted to Trip=%{y}<br>Hour of day=%{marker.size}<extra></extra>\", \"legendgroup\": \"Zone E\", \"marker\": {\"color\": \"#FF97FF\", \"size\": [3599.0], \"sizemode\": \"area\", \"sizeref\": 4.9655555555555555, \"symbol\": \"circle\"}, \"mode\": \"markers\", \"name\": \"Zone E\", \"orientation\": \"v\", \"showlegend\": true, \"type\": \"scatter\", \"x\": [\"Zone E\"], \"xaxis\": \"x\", \"y\": [122.0], \"yaxis\": \"y\"}, {\"hovertemplate\": \"Start zone=%{x}<br>Converted to Trip=%{y}<br>Hour of day=%{marker.size}<extra></extra>\", \"legendgroup\": \"Zone F\", \"marker\": {\"color\": \"#FECB52\", \"size\": [3301.0], \"sizemode\": \"area\", \"sizeref\": 4.9655555555555555, \"symbol\": \"circle\"}, \"mode\": \"markers\", \"name\": \"Zone F\", \"orientation\": \"v\", \"showlegend\": true, \"type\": \"scatter\", \"x\": [\"Zone F\"], \"xaxis\": \"x\", \"y\": [108.0], \"yaxis\": \"y\"}, {\"hovertemplate\": \"Start zone=%{x}<br>Converted to Trip=%{y}<br>Hour of day=%{marker.size}<extra></extra>\", \"legendgroup\": \"Zone AA\", \"marker\": {\"color\": \"#636efa\", \"size\": [1453.0], \"sizemode\": \"area\", \"sizeref\": 4.9655555555555555, \"symbol\": \"circle\"}, \"mode\": \"markers\", \"name\": \"Zone AA\", \"orientation\": \"v\", \"showlegend\": true, \"type\": \"scatter\", \"x\": [\"Zone AA\"], \"xaxis\": \"x\", \"y\": [63.0], \"yaxis\": \"y\"}, {\"hovertemplate\": \"Start zone=%{x}<br>Converted to Trip=%{y}<br>Hour of day=%{marker.size}<extra></extra>\", \"legendgroup\": \"Zone X\", \"marker\": {\"color\": \"#EF553B\", \"size\": [1510.0], \"sizemode\": \"area\", \"sizeref\": 4.9655555555555555, \"symbol\": \"circle\"}, \"mode\": \"markers\", \"name\": \"Zone X\", \"orientation\": \"v\", \"showlegend\": true, \"type\": \"scatter\", \"x\": [\"Zone X\"], \"xaxis\": \"x\", \"y\": [62.0], \"yaxis\": \"y\"}, {\"hovertemplate\": \"Start zone=%{x}<br>Converted to Trip=%{y}<br>Hour of day=%{marker.size}<extra></extra>\", \"legendgroup\": \"Zone Q\", \"marker\": {\"color\": \"#00cc96\", \"size\": [1446.0], \"sizemode\": \"area\", \"sizeref\": 4.9655555555555555, \"symbol\": \"circle\"}, \"mode\": \"markers\", \"name\": \"Zone Q\", \"orientation\": \"v\", \"showlegend\": true, \"type\": \"scatter\", \"x\": [\"Zone Q\"], \"xaxis\": \"x\", \"y\": [54.0], \"yaxis\": \"y\"}, {\"hovertemplate\": \"Start zone=%{x}<br>Converted to Trip=%{y}<br>Hour of day=%{marker.size}<extra></extra>\", \"legendgroup\": \"Zone Z\", \"marker\": {\"color\": \"#ab63fa\", \"size\": [1495.0], \"sizemode\": \"area\", \"sizeref\": 4.9655555555555555, \"symbol\": \"circle\"}, \"mode\": \"markers\", \"name\": \"Zone Z\", \"orientation\": \"v\", \"showlegend\": true, \"type\": \"scatter\", \"x\": [\"Zone Z\"], \"xaxis\": \"x\", \"y\": [53.0], \"yaxis\": \"y\"}, {\"hovertemplate\": \"Start zone=%{x}<br>Converted to Trip=%{y}<br>Hour of day=%{marker.size}<extra></extra>\", \"legendgroup\": \"Zone C\", \"marker\": {\"color\": \"#FFA15A\", \"size\": [1629.0], \"sizemode\": \"area\", \"sizeref\": 4.9655555555555555, \"symbol\": \"circle\"}, \"mode\": \"markers\", \"name\": \"Zone C\", \"orientation\": \"v\", \"showlegend\": true, \"type\": \"scatter\", \"x\": [\"Zone C\"], \"xaxis\": \"x\", \"y\": [53.0], \"yaxis\": \"y\"}, {\"hovertemplate\": \"Start zone=%{x}<br>Converted to Trip=%{y}<br>Hour of day=%{marker.size}<extra></extra>\", \"legendgroup\": \"Zone R\", \"marker\": {\"color\": \"#19d3f3\", \"size\": [1147.0], \"sizemode\": \"area\", \"sizeref\": 4.9655555555555555, \"symbol\": \"circle\"}, \"mode\": \"markers\", \"name\": \"Zone R\", \"orientation\": \"v\", \"showlegend\": true, \"type\": \"scatter\", \"x\": [\"Zone R\"], \"xaxis\": \"x\", \"y\": [47.0], \"yaxis\": \"y\"}, {\"hovertemplate\": \"Start zone=%{x}<br>Converted to Trip=%{y}<br>Hour of day=%{marker.size}<extra></extra>\", \"legendgroup\": \"Zone Y\", \"marker\": {\"color\": \"#FF6692\", \"size\": [1008.0], \"sizemode\": \"area\", \"sizeref\": 4.9655555555555555, \"symbol\": \"circle\"}, \"mode\": \"markers\", \"name\": \"Zone Y\", \"orientation\": \"v\", \"showlegend\": true, \"type\": \"scatter\", \"x\": [\"Zone Y\"], \"xaxis\": \"x\", \"y\": [31.0], \"yaxis\": \"y\"}, {\"hovertemplate\": \"Start zone=%{x}<br>Converted to Trip=%{y}<br>Hour of day=%{marker.size}<extra></extra>\", \"legendgroup\": \"Zone T\", \"marker\": {\"color\": \"#B6E880\", \"size\": [916.0], \"sizemode\": \"area\", \"sizeref\": 4.9655555555555555, \"symbol\": \"circle\"}, \"mode\": \"markers\", \"name\": \"Zone T\", \"orientation\": \"v\", \"showlegend\": true, \"type\": \"scatter\", \"x\": [\"Zone T\"], \"xaxis\": \"x\", \"y\": [30.0], \"yaxis\": \"y\"}, {\"hovertemplate\": \"Start zone=%{x}<br>Converted to Trip=%{y}<br>Hour of day=%{marker.size}<extra></extra>\", \"legendgroup\": \"Zone M\", \"marker\": {\"color\": \"#FF97FF\", \"size\": [1329.0], \"sizemode\": \"area\", \"sizeref\": 4.9655555555555555, \"symbol\": \"circle\"}, \"mode\": \"markers\", \"name\": \"Zone M\", \"orientation\": \"v\", \"showlegend\": true, \"type\": \"scatter\", \"x\": [\"Zone M\"], \"xaxis\": \"x\", \"y\": [28.0], \"yaxis\": \"y\"}, {\"hovertemplate\": \"Start zone=%{x}<br>Converted to Trip=%{y}<br>Hour of day=%{marker.size}<extra></extra>\", \"legendgroup\": \"Zone N\", \"marker\": {\"color\": \"#FECB52\", \"size\": [801.0], \"sizemode\": \"area\", \"sizeref\": 4.9655555555555555, \"symbol\": \"circle\"}, \"mode\": \"markers\", \"name\": \"Zone N\", \"orientation\": \"v\", \"showlegend\": true, \"type\": \"scatter\", \"x\": [\"Zone N\"], \"xaxis\": \"x\", \"y\": [28.0], \"yaxis\": \"y\"}, {\"hovertemplate\": \"Start zone=%{x}<br>Converted to Trip=%{y}<br>Hour of day=%{marker.size}<extra></extra>\", \"legendgroup\": \"Zone AE\", \"marker\": {\"color\": \"#636efa\", \"size\": [777.0], \"sizemode\": \"area\", \"sizeref\": 4.9655555555555555, \"symbol\": \"circle\"}, \"mode\": \"markers\", \"name\": \"Zone AE\", \"orientation\": \"v\", \"showlegend\": true, \"type\": \"scatter\", \"x\": [\"Zone AE\"], \"xaxis\": \"x\", \"y\": [25.0], \"yaxis\": \"y\"}, {\"hovertemplate\": \"Start zone=%{x}<br>Converted to Trip=%{y}<br>Hour of day=%{marker.size}<extra></extra>\", \"legendgroup\": \"Zone AH\", \"marker\": {\"color\": \"#EF553B\", \"size\": [1037.0], \"sizemode\": \"area\", \"sizeref\": 4.9655555555555555, \"symbol\": \"circle\"}, \"mode\": \"markers\", \"name\": \"Zone AH\", \"orientation\": \"v\", \"showlegend\": true, \"type\": \"scatter\", \"x\": [\"Zone AH\"], \"xaxis\": \"x\", \"y\": [25.0], \"yaxis\": \"y\"}, {\"hovertemplate\": \"Start zone=%{x}<br>Converted to Trip=%{y}<br>Hour of day=%{marker.size}<extra></extra>\", \"legendgroup\": \"Zone AF\", \"marker\": {\"color\": \"#00cc96\", \"size\": [856.0], \"sizemode\": \"area\", \"sizeref\": 4.9655555555555555, \"symbol\": \"circle\"}, \"mode\": \"markers\", \"name\": \"Zone AF\", \"orientation\": \"v\", \"showlegend\": true, \"type\": \"scatter\", \"x\": [\"Zone AF\"], \"xaxis\": \"x\", \"y\": [22.0], \"yaxis\": \"y\"}, {\"hovertemplate\": \"Start zone=%{x}<br>Converted to Trip=%{y}<br>Hour of day=%{marker.size}<extra></extra>\", \"legendgroup\": \"Zone AC\", \"marker\": {\"color\": \"#ab63fa\", \"size\": [708.0], \"sizemode\": \"area\", \"sizeref\": 4.9655555555555555, \"symbol\": \"circle\"}, \"mode\": \"markers\", \"name\": \"Zone AC\", \"orientation\": \"v\", \"showlegend\": true, \"type\": \"scatter\", \"x\": [\"Zone AC\"], \"xaxis\": \"x\", \"y\": [21.0], \"yaxis\": \"y\"}, {\"hovertemplate\": \"Start zone=%{x}<br>Converted to Trip=%{y}<br>Hour of day=%{marker.size}<extra></extra>\", \"legendgroup\": \"Zone AD\", \"marker\": {\"color\": \"#FFA15A\", \"size\": [619.0], \"sizemode\": \"area\", \"sizeref\": 4.9655555555555555, \"symbol\": \"circle\"}, \"mode\": \"markers\", \"name\": \"Zone AD\", \"orientation\": \"v\", \"showlegend\": true, \"type\": \"scatter\", \"x\": [\"Zone AD\"], \"xaxis\": \"x\", \"y\": [19.0], \"yaxis\": \"y\"}, {\"hovertemplate\": \"Start zone=%{x}<br>Converted to Trip=%{y}<br>Hour of day=%{marker.size}<extra></extra>\", \"legendgroup\": \"Zone W\", \"marker\": {\"color\": \"#19d3f3\", \"size\": [631.0], \"sizemode\": \"area\", \"sizeref\": 4.9655555555555555, \"symbol\": \"circle\"}, \"mode\": \"markers\", \"name\": \"Zone W\", \"orientation\": \"v\", \"showlegend\": true, \"type\": \"scatter\", \"x\": [\"Zone W\"], \"xaxis\": \"x\", \"y\": [18.0], \"yaxis\": \"y\"}, {\"hovertemplate\": \"Start zone=%{x}<br>Converted to Trip=%{y}<br>Hour of day=%{marker.size}<extra></extra>\", \"legendgroup\": \"Zone AB\", \"marker\": {\"color\": \"#FF6692\", \"size\": [952.0], \"sizemode\": \"area\", \"sizeref\": 4.9655555555555555, \"symbol\": \"circle\"}, \"mode\": \"markers\", \"name\": \"Zone AB\", \"orientation\": \"v\", \"showlegend\": true, \"type\": \"scatter\", \"x\": [\"Zone AB\"], \"xaxis\": \"x\", \"y\": [18.0], \"yaxis\": \"y\"}, {\"hovertemplate\": \"Start zone=%{x}<br>Converted to Trip=%{y}<br>Hour of day=%{marker.size}<extra></extra>\", \"legendgroup\": \"Zone I\", \"marker\": {\"color\": \"#B6E880\", \"size\": [839.0], \"sizemode\": \"area\", \"sizeref\": 4.9655555555555555, \"symbol\": \"circle\"}, \"mode\": \"markers\", \"name\": \"Zone I\", \"orientation\": \"v\", \"showlegend\": true, \"type\": \"scatter\", \"x\": [\"Zone I\"], \"xaxis\": \"x\", \"y\": [17.0], \"yaxis\": \"y\"}, {\"hovertemplate\": \"Start zone=%{x}<br>Converted to Trip=%{y}<br>Hour of day=%{marker.size}<extra></extra>\", \"legendgroup\": \"Zone L\", \"marker\": {\"color\": \"#FF97FF\", \"size\": [359.0], \"sizemode\": \"area\", \"sizeref\": 4.9655555555555555, \"symbol\": \"circle\"}, \"mode\": \"markers\", \"name\": \"Zone L\", \"orientation\": \"v\", \"showlegend\": true, \"type\": \"scatter\", \"x\": [\"Zone L\"], \"xaxis\": \"x\", \"y\": [16.0], \"yaxis\": \"y\"}, {\"hovertemplate\": \"Start zone=%{x}<br>Converted to Trip=%{y}<br>Hour of day=%{marker.size}<extra></extra>\", \"legendgroup\": \"Zone O\", \"marker\": {\"color\": \"#FECB52\", \"size\": [592.0], \"sizemode\": \"area\", \"sizeref\": 4.9655555555555555, \"symbol\": \"circle\"}, \"mode\": \"markers\", \"name\": \"Zone O\", \"orientation\": \"v\", \"showlegend\": true, \"type\": \"scatter\", \"x\": [\"Zone O\"], \"xaxis\": \"x\", \"y\": [16.0], \"yaxis\": \"y\"}, {\"hovertemplate\": \"Start zone=%{x}<br>Converted to Trip=%{y}<br>Hour of day=%{marker.size}<extra></extra>\", \"legendgroup\": \"Zone AG\", \"marker\": {\"color\": \"#636efa\", \"size\": [693.0], \"sizemode\": \"area\", \"sizeref\": 4.9655555555555555, \"symbol\": \"circle\"}, \"mode\": \"markers\", \"name\": \"Zone AG\", \"orientation\": \"v\", \"showlegend\": true, \"type\": \"scatter\", \"x\": [\"Zone AG\"], \"xaxis\": \"x\", \"y\": [16.0], \"yaxis\": \"y\"}, {\"hovertemplate\": \"Start zone=%{x}<br>Converted to Trip=%{y}<br>Hour of day=%{marker.size}<extra></extra>\", \"legendgroup\": \"Zone AI\", \"marker\": {\"color\": \"#EF553B\", \"size\": [412.0], \"sizemode\": \"area\", \"sizeref\": 4.9655555555555555, \"symbol\": \"circle\"}, \"mode\": \"markers\", \"name\": \"Zone AI\", \"orientation\": \"v\", \"showlegend\": true, \"type\": \"scatter\", \"x\": [\"Zone AI\"], \"xaxis\": \"x\", \"y\": [13.0], \"yaxis\": \"y\"}, {\"hovertemplate\": \"Start zone=%{x}<br>Converted to Trip=%{y}<br>Hour of day=%{marker.size}<extra></extra>\", \"legendgroup\": \"Zone J\", \"marker\": {\"color\": \"#00cc96\", \"size\": [384.0], \"sizemode\": \"area\", \"sizeref\": 4.9655555555555555, \"symbol\": \"circle\"}, \"mode\": \"markers\", \"name\": \"Zone J\", \"orientation\": \"v\", \"showlegend\": true, \"type\": \"scatter\", \"x\": [\"Zone J\"], \"xaxis\": \"x\", \"y\": [9.0], \"yaxis\": \"y\"}, {\"hovertemplate\": \"Start zone=%{x}<br>Converted to Trip=%{y}<br>Hour of day=%{marker.size}<extra></extra>\", \"legendgroup\": \"Zone U\", \"marker\": {\"color\": \"#ab63fa\", \"size\": [208.0], \"sizemode\": \"area\", \"sizeref\": 4.9655555555555555, \"symbol\": \"circle\"}, \"mode\": \"markers\", \"name\": \"Zone U\", \"orientation\": \"v\", \"showlegend\": true, \"type\": \"scatter\", \"x\": [\"Zone U\"], \"xaxis\": \"x\", \"y\": [8.0], \"yaxis\": \"y\"}, {\"hovertemplate\": \"Start zone=%{x}<br>Converted to Trip=%{y}<br>Hour of day=%{marker.size}<extra></extra>\", \"legendgroup\": \"Zone V\", \"marker\": {\"color\": \"#FFA15A\", \"size\": [141.0], \"sizemode\": \"area\", \"sizeref\": 4.9655555555555555, \"symbol\": \"circle\"}, \"mode\": \"markers\", \"name\": \"Zone V\", \"orientation\": \"v\", \"showlegend\": true, \"type\": \"scatter\", \"x\": [\"Zone V\"], \"xaxis\": \"x\", \"y\": [3.0], \"yaxis\": \"y\"}],                        {\"legend\": {\"itemsizing\": \"constant\", \"title\": {\"text\": \"Start zone\"}, \"tracegroupgap\": 0}, \"margin\": {\"t\": 60}, \"template\": {\"data\": {\"bar\": [{\"error_x\": {\"color\": \"#2a3f5f\"}, \"error_y\": {\"color\": \"#2a3f5f\"}, \"marker\": {\"line\": {\"color\": \"#E5ECF6\", \"width\": 0.5}}, \"type\": \"bar\"}], \"barpolar\": [{\"marker\": {\"line\": {\"color\": \"#E5ECF6\", \"width\": 0.5}}, \"type\": \"barpolar\"}], \"carpet\": [{\"aaxis\": {\"endlinecolor\": \"#2a3f5f\", \"gridcolor\": \"white\", \"linecolor\": \"white\", \"minorgridcolor\": \"white\", \"startlinecolor\": \"#2a3f5f\"}, \"baxis\": {\"endlinecolor\": \"#2a3f5f\", \"gridcolor\": \"white\", \"linecolor\": \"white\", \"minorgridcolor\": \"white\", \"startlinecolor\": \"#2a3f5f\"}, \"type\": \"carpet\"}], \"choropleth\": [{\"colorbar\": {\"outlinewidth\": 0, \"ticks\": \"\"}, \"type\": \"choropleth\"}], \"contour\": [{\"colorbar\": {\"outlinewidth\": 0, \"ticks\": \"\"}, \"colorscale\": [[0.0, \"#0d0887\"], [0.1111111111111111, \"#46039f\"], [0.2222222222222222, \"#7201a8\"], [0.3333333333333333, \"#9c179e\"], [0.4444444444444444, \"#bd3786\"], [0.5555555555555556, \"#d8576b\"], [0.6666666666666666, \"#ed7953\"], [0.7777777777777778, \"#fb9f3a\"], [0.8888888888888888, \"#fdca26\"], [1.0, \"#f0f921\"]], \"type\": \"contour\"}], \"contourcarpet\": [{\"colorbar\": {\"outlinewidth\": 0, \"ticks\": \"\"}, \"type\": \"contourcarpet\"}], \"heatmap\": [{\"colorbar\": {\"outlinewidth\": 0, \"ticks\": \"\"}, \"colorscale\": [[0.0, \"#0d0887\"], [0.1111111111111111, \"#46039f\"], [0.2222222222222222, \"#7201a8\"], [0.3333333333333333, \"#9c179e\"], [0.4444444444444444, \"#bd3786\"], [0.5555555555555556, \"#d8576b\"], [0.6666666666666666, \"#ed7953\"], [0.7777777777777778, \"#fb9f3a\"], [0.8888888888888888, \"#fdca26\"], [1.0, \"#f0f921\"]], \"type\": \"heatmap\"}], \"heatmapgl\": [{\"colorbar\": {\"outlinewidth\": 0, \"ticks\": \"\"}, \"colorscale\": [[0.0, \"#0d0887\"], [0.1111111111111111, \"#46039f\"], [0.2222222222222222, \"#7201a8\"], [0.3333333333333333, \"#9c179e\"], [0.4444444444444444, \"#bd3786\"], [0.5555555555555556, \"#d8576b\"], [0.6666666666666666, \"#ed7953\"], [0.7777777777777778, \"#fb9f3a\"], [0.8888888888888888, \"#fdca26\"], [1.0, \"#f0f921\"]], \"type\": \"heatmapgl\"}], \"histogram\": [{\"marker\": {\"colorbar\": {\"outlinewidth\": 0, \"ticks\": \"\"}}, \"type\": \"histogram\"}], \"histogram2d\": [{\"colorbar\": {\"outlinewidth\": 0, \"ticks\": \"\"}, \"colorscale\": [[0.0, \"#0d0887\"], [0.1111111111111111, \"#46039f\"], [0.2222222222222222, \"#7201a8\"], [0.3333333333333333, \"#9c179e\"], [0.4444444444444444, \"#bd3786\"], [0.5555555555555556, \"#d8576b\"], [0.6666666666666666, \"#ed7953\"], [0.7777777777777778, \"#fb9f3a\"], [0.8888888888888888, \"#fdca26\"], [1.0, \"#f0f921\"]], \"type\": \"histogram2d\"}], \"histogram2dcontour\": [{\"colorbar\": {\"outlinewidth\": 0, \"ticks\": \"\"}, \"colorscale\": [[0.0, \"#0d0887\"], [0.1111111111111111, \"#46039f\"], [0.2222222222222222, \"#7201a8\"], [0.3333333333333333, \"#9c179e\"], [0.4444444444444444, \"#bd3786\"], [0.5555555555555556, \"#d8576b\"], [0.6666666666666666, \"#ed7953\"], [0.7777777777777778, \"#fb9f3a\"], [0.8888888888888888, \"#fdca26\"], [1.0, \"#f0f921\"]], \"type\": \"histogram2dcontour\"}], \"mesh3d\": [{\"colorbar\": {\"outlinewidth\": 0, \"ticks\": \"\"}, \"type\": \"mesh3d\"}], \"parcoords\": [{\"line\": {\"colorbar\": {\"outlinewidth\": 0, \"ticks\": \"\"}}, \"type\": \"parcoords\"}], \"pie\": [{\"automargin\": true, \"type\": \"pie\"}], \"scatter\": [{\"marker\": {\"colorbar\": {\"outlinewidth\": 0, \"ticks\": \"\"}}, \"type\": \"scatter\"}], \"scatter3d\": [{\"line\": {\"colorbar\": {\"outlinewidth\": 0, \"ticks\": \"\"}}, \"marker\": {\"colorbar\": {\"outlinewidth\": 0, \"ticks\": \"\"}}, \"type\": \"scatter3d\"}], \"scattercarpet\": [{\"marker\": {\"colorbar\": {\"outlinewidth\": 0, \"ticks\": \"\"}}, \"type\": \"scattercarpet\"}], \"scattergeo\": [{\"marker\": {\"colorbar\": {\"outlinewidth\": 0, \"ticks\": \"\"}}, \"type\": \"scattergeo\"}], \"scattergl\": [{\"marker\": {\"colorbar\": {\"outlinewidth\": 0, \"ticks\": \"\"}}, \"type\": \"scattergl\"}], \"scattermapbox\": [{\"marker\": {\"colorbar\": {\"outlinewidth\": 0, \"ticks\": \"\"}}, \"type\": \"scattermapbox\"}], \"scatterpolar\": [{\"marker\": {\"colorbar\": {\"outlinewidth\": 0, \"ticks\": \"\"}}, \"type\": \"scatterpolar\"}], \"scatterpolargl\": [{\"marker\": {\"colorbar\": {\"outlinewidth\": 0, \"ticks\": \"\"}}, \"type\": \"scatterpolargl\"}], \"scatterternary\": [{\"marker\": {\"colorbar\": {\"outlinewidth\": 0, \"ticks\": \"\"}}, \"type\": \"scatterternary\"}], \"surface\": [{\"colorbar\": {\"outlinewidth\": 0, \"ticks\": \"\"}, \"colorscale\": [[0.0, \"#0d0887\"], [0.1111111111111111, \"#46039f\"], [0.2222222222222222, \"#7201a8\"], [0.3333333333333333, \"#9c179e\"], [0.4444444444444444, \"#bd3786\"], [0.5555555555555556, \"#d8576b\"], [0.6666666666666666, \"#ed7953\"], [0.7777777777777778, \"#fb9f3a\"], [0.8888888888888888, \"#fdca26\"], [1.0, \"#f0f921\"]], \"type\": \"surface\"}], \"table\": [{\"cells\": {\"fill\": {\"color\": \"#EBF0F8\"}, \"line\": {\"color\": \"white\"}}, \"header\": {\"fill\": {\"color\": \"#C8D4E3\"}, \"line\": {\"color\": \"white\"}}, \"type\": \"table\"}]}, \"layout\": {\"annotationdefaults\": {\"arrowcolor\": \"#2a3f5f\", \"arrowhead\": 0, \"arrowwidth\": 1}, \"autotypenumbers\": \"strict\", \"coloraxis\": {\"colorbar\": {\"outlinewidth\": 0, \"ticks\": \"\"}}, \"colorscale\": {\"diverging\": [[0, \"#8e0152\"], [0.1, \"#c51b7d\"], [0.2, \"#de77ae\"], [0.3, \"#f1b6da\"], [0.4, \"#fde0ef\"], [0.5, \"#f7f7f7\"], [0.6, \"#e6f5d0\"], [0.7, \"#b8e186\"], [0.8, \"#7fbc41\"], [0.9, \"#4d9221\"], [1, \"#276419\"]], \"sequential\": [[0.0, \"#0d0887\"], [0.1111111111111111, \"#46039f\"], [0.2222222222222222, \"#7201a8\"], [0.3333333333333333, \"#9c179e\"], [0.4444444444444444, \"#bd3786\"], [0.5555555555555556, \"#d8576b\"], [0.6666666666666666, \"#ed7953\"], [0.7777777777777778, \"#fb9f3a\"], [0.8888888888888888, \"#fdca26\"], [1.0, \"#f0f921\"]], \"sequentialminus\": [[0.0, \"#0d0887\"], [0.1111111111111111, \"#46039f\"], [0.2222222222222222, \"#7201a8\"], [0.3333333333333333, \"#9c179e\"], [0.4444444444444444, \"#bd3786\"], [0.5555555555555556, \"#d8576b\"], [0.6666666666666666, \"#ed7953\"], [0.7777777777777778, \"#fb9f3a\"], [0.8888888888888888, \"#fdca26\"], [1.0, \"#f0f921\"]]}, \"colorway\": [\"#636efa\", \"#EF553B\", \"#00cc96\", \"#ab63fa\", \"#FFA15A\", \"#19d3f3\", \"#FF6692\", \"#B6E880\", \"#FF97FF\", \"#FECB52\"], \"font\": {\"color\": \"#2a3f5f\"}, \"geo\": {\"bgcolor\": \"white\", \"lakecolor\": \"white\", \"landcolor\": \"#E5ECF6\", \"showlakes\": true, \"showland\": true, \"subunitcolor\": \"white\"}, \"hoverlabel\": {\"align\": \"left\"}, \"hovermode\": \"closest\", \"mapbox\": {\"style\": \"light\"}, \"paper_bgcolor\": \"white\", \"plot_bgcolor\": \"#E5ECF6\", \"polar\": {\"angularaxis\": {\"gridcolor\": \"white\", \"linecolor\": \"white\", \"ticks\": \"\"}, \"bgcolor\": \"#E5ECF6\", \"radialaxis\": {\"gridcolor\": \"white\", \"linecolor\": \"white\", \"ticks\": \"\"}}, \"scene\": {\"xaxis\": {\"backgroundcolor\": \"#E5ECF6\", \"gridcolor\": \"white\", \"gridwidth\": 2, \"linecolor\": \"white\", \"showbackground\": true, \"ticks\": \"\", \"zerolinecolor\": \"white\"}, \"yaxis\": {\"backgroundcolor\": \"#E5ECF6\", \"gridcolor\": \"white\", \"gridwidth\": 2, \"linecolor\": \"white\", \"showbackground\": true, \"ticks\": \"\", \"zerolinecolor\": \"white\"}, \"zaxis\": {\"backgroundcolor\": \"#E5ECF6\", \"gridcolor\": \"white\", \"gridwidth\": 2, \"linecolor\": \"white\", \"showbackground\": true, \"ticks\": \"\", \"zerolinecolor\": \"white\"}}, \"shapedefaults\": {\"line\": {\"color\": \"#2a3f5f\"}}, \"ternary\": {\"aaxis\": {\"gridcolor\": \"white\", \"linecolor\": \"white\", \"ticks\": \"\"}, \"baxis\": {\"gridcolor\": \"white\", \"linecolor\": \"white\", \"ticks\": \"\"}, \"bgcolor\": \"#E5ECF6\", \"caxis\": {\"gridcolor\": \"white\", \"linecolor\": \"white\", \"ticks\": \"\"}}, \"title\": {\"x\": 0.05}, \"xaxis\": {\"automargin\": true, \"gridcolor\": \"white\", \"linecolor\": \"white\", \"ticks\": \"\", \"title\": {\"standoff\": 15}, \"zerolinecolor\": \"white\", \"zerolinewidth\": 2}, \"yaxis\": {\"automargin\": true, \"gridcolor\": \"white\", \"linecolor\": \"white\", \"ticks\": \"\", \"title\": {\"standoff\": 15}, \"zerolinecolor\": \"white\", \"zerolinewidth\": 2}}}, \"xaxis\": {\"anchor\": \"y\", \"categoryarray\": [\"Zone G\", \"Zone B\", \"Zone D\", \"Zone P\", \"Zone A\", \"Zone K\", \"Zone S\", \"Zone H\", \"Zone E\", \"Zone F\", \"Zone AA\", \"Zone X\", \"Zone Q\", \"Zone Z\", \"Zone C\", \"Zone R\", \"Zone Y\", \"Zone T\", \"Zone M\", \"Zone N\", \"Zone AE\", \"Zone AH\", \"Zone AF\", \"Zone AC\", \"Zone AD\", \"Zone W\", \"Zone AB\", \"Zone I\", \"Zone L\", \"Zone O\", \"Zone AG\", \"Zone AI\", \"Zone J\", \"Zone U\", \"Zone V\"], \"categoryorder\": \"array\", \"domain\": [0.0, 1.0], \"title\": {\"text\": \"Start zone\"}}, \"yaxis\": {\"anchor\": \"x\", \"domain\": [0.0, 1.0], \"title\": {\"text\": \"Converted to Trip\"}}},                        {\"responsive\": true}                    ).then(function(){\n",
       "                            \n",
       "var gd = document.getElementById('936aa94a-ebfe-4883-b0aa-8e1b165204fc');\n",
       "var x = new MutationObserver(function (mutations, observer) {{\n",
       "        var display = window.getComputedStyle(gd).display;\n",
       "        if (!display || display === 'none') {{\n",
       "            console.log([gd, 'removed!']);\n",
       "            Plotly.purge(gd);\n",
       "            observer.disconnect();\n",
       "        }}\n",
       "}});\n",
       "\n",
       "// Listen for the removal of the full notebook cells\n",
       "var notebookContainer = gd.closest('#notebook-container');\n",
       "if (notebookContainer) {{\n",
       "    x.observe(notebookContainer, {childList: true});\n",
       "}}\n",
       "\n",
       "// Listen for the clearing of the current output cell\n",
       "var outputEl = gd.closest('.output');\n",
       "if (outputEl) {{\n",
       "    x.observe(outputEl, {childList: true});\n",
       "}}\n",
       "\n",
       "                        })                };                });            </script>        </div>"
      ]
     },
     "metadata": {},
     "output_type": "display_data"
    }
   ],
   "source": [
    "df = performance_df.sort_values(by = ['Converted to Trip'], ascending=[False])\n",
    "\n",
    "fig = px.scatter(df, x=\"Start zone\", y=\"Converted to Trip\",\n",
    "\t         size=\"Hour of day\", color=\"Start zone\", size_max=60)\n",
    "fig.show()"
   ]
  }
 ],
 "metadata": {
  "kernelspec": {
   "display_name": "Python 3",
   "language": "python",
   "name": "python3"
  },
  "language_info": {
   "codemirror_mode": {
    "name": "ipython",
    "version": 3
   },
   "file_extension": ".py",
   "mimetype": "text/x-python",
   "name": "python",
   "nbconvert_exporter": "python",
   "pygments_lexer": "ipython3",
   "version": "3.8.6"
  },
  "toc": {
   "base_numbering": 1,
   "nav_menu": {},
   "number_sections": true,
   "sideBar": true,
   "skip_h1_title": false,
   "title_cell": "Table of Contents",
   "title_sidebar": "Contents",
   "toc_cell": false,
   "toc_position": {},
   "toc_section_display": true,
   "toc_window_display": false
  },
  "varInspector": {
   "cols": {
    "lenName": 16,
    "lenType": 16,
    "lenVar": 40
   },
   "kernels_config": {
    "python": {
     "delete_cmd_postfix": "",
     "delete_cmd_prefix": "del ",
     "library": "var_list.py",
     "varRefreshCmd": "print(var_dic_list())"
    },
    "r": {
     "delete_cmd_postfix": ") ",
     "delete_cmd_prefix": "rm(",
     "library": "var_list.r",
     "varRefreshCmd": "cat(var_dic_list()) "
    }
   },
   "types_to_exclude": [
    "module",
    "function",
    "builtin_function_or_method",
    "instance",
    "_Feature"
   ],
   "window_display": false
  }
 },
 "nbformat": 4,
 "nbformat_minor": 5
}
